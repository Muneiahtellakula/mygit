{
 "cells": [
  {
   "cell_type": "markdown",
   "metadata": {},
   "source": [
    "## Today Topics\n",
    "* While\n",
    "* Strings Slicing \n",
    "    * Problems\n",
    "* Functions In python\n",
    "     * Problems\n",
    "* List\n",
    "* Tuple\n",
    "* Dictionaries\n"
   ]
  },
  {
   "cell_type": "code",
   "execution_count": 2,
   "metadata": {},
   "outputs": [
    {
     "name": "stdout",
     "output_type": "stream",
     "text": [
      "1\n",
      "123\n",
      "898\n",
      "23\n",
      "2\n",
      "2\n",
      "6\n",
      "6\n"
     ]
    }
   ],
   "source": [
    "#While \n",
    "\n",
    "while True:\n",
    "    n=int(input())\n",
    "    if n==6:\n",
    "        print(n)\n",
    "        break"
   ]
  },
  {
   "cell_type": "code",
   "execution_count": 5,
   "metadata": {},
   "outputs": [
    {
     "name": "stdout",
     "output_type": "stream",
     "text": [
      "1 --> m\n",
      "2 --> u\n",
      "3 --> n\n",
      "4 --> i\n"
     ]
    }
   ],
   "source": [
    "s=\"muni\"\n",
    "count=0\n",
    "for i in s:\n",
    "    count=count+1\n",
    "    print(count,\"-->\",i)"
   ]
  },
  {
   "cell_type": "code",
   "execution_count": 10,
   "metadata": {},
   "outputs": [
    {
     "name": "stdout",
     "output_type": "stream",
     "text": [
      "1 --> a 2 --> p 3 --> s 4 --> s 5 --> d 6 --> c 7 --> - 8 --> c 9 --> b 10 --> i 11 --> t "
     ]
    }
   ],
   "source": [
    "b=\"apssdc-cbit\"\n",
    "c=0\n",
    "for num in b:\n",
    "    c=c+1\n",
    "    print(c,\"-->\",num,end=\" \")    "
   ]
  },
  {
   "cell_type": "code",
   "execution_count": 5,
   "metadata": {},
   "outputs": [
    {
     "name": "stdout",
     "output_type": "stream",
     "text": [
      "['__add__', '__class__', '__contains__', '__delattr__', '__delitem__', '__dir__', '__doc__', '__eq__', '__format__', '__ge__', '__getattribute__', '__getitem__', '__gt__', '__hash__', '__iadd__', '__imul__', '__init__', '__init_subclass__', '__iter__', '__le__', '__len__', '__lt__', '__mul__', '__ne__', '__new__', '__reduce__', '__reduce_ex__', '__repr__', '__reversed__', '__rmul__', '__setattr__', '__setitem__', '__sizeof__', '__str__', '__subclasshook__', 'append', 'clear', 'copy', 'count', 'extend', 'index', 'insert', 'pop', 'remove', 'reverse', 'sort']\n"
     ]
    }
   ],
   "source": [
    "print(dir(list))"
   ]
  },
  {
   "cell_type": "code",
   "execution_count": 12,
   "metadata": {},
   "outputs": [
    {
     "name": "stdout",
     "output_type": "stream",
     "text": [
      "Enter the number34301054123457\n",
      "14\n"
     ]
    }
   ],
   "source": [
    "#Find the number occarences in the given input\n",
    "    #--n=43216--5\n",
    "n1=int(input(\"Enter the number\"))\n",
    "count=0\n",
    "while n1>0:\n",
    "    count=count+1\n",
    "    n1=n1//10\n",
    "print(count)\n",
    "    \n"
   ]
  },
  {
   "cell_type": "markdown",
   "metadata": {},
   "source": [
    "## Strings Slicing"
   ]
  },
  {
   "cell_type": "code",
   "execution_count": 14,
   "metadata": {},
   "outputs": [
    {
     "data": {
      "text/plain": [
       "['__add__',\n",
       " '__class__',\n",
       " '__contains__',\n",
       " '__delattr__',\n",
       " '__dir__',\n",
       " '__doc__',\n",
       " '__eq__',\n",
       " '__format__',\n",
       " '__ge__',\n",
       " '__getattribute__',\n",
       " '__getitem__',\n",
       " '__getnewargs__',\n",
       " '__gt__',\n",
       " '__hash__',\n",
       " '__init__',\n",
       " '__init_subclass__',\n",
       " '__iter__',\n",
       " '__le__',\n",
       " '__len__',\n",
       " '__lt__',\n",
       " '__mod__',\n",
       " '__mul__',\n",
       " '__ne__',\n",
       " '__new__',\n",
       " '__reduce__',\n",
       " '__reduce_ex__',\n",
       " '__repr__',\n",
       " '__rmod__',\n",
       " '__rmul__',\n",
       " '__setattr__',\n",
       " '__sizeof__',\n",
       " '__str__',\n",
       " '__subclasshook__',\n",
       " 'capitalize',\n",
       " 'casefold',\n",
       " 'center',\n",
       " 'count',\n",
       " 'encode',\n",
       " 'endswith',\n",
       " 'expandtabs',\n",
       " 'find',\n",
       " 'format',\n",
       " 'format_map',\n",
       " 'index',\n",
       " 'isalnum',\n",
       " 'isalpha',\n",
       " 'isascii',\n",
       " 'isdecimal',\n",
       " 'isdigit',\n",
       " 'isidentifier',\n",
       " 'islower',\n",
       " 'isnumeric',\n",
       " 'isprintable',\n",
       " 'isspace',\n",
       " 'istitle',\n",
       " 'isupper',\n",
       " 'join',\n",
       " 'ljust',\n",
       " 'lower',\n",
       " 'lstrip',\n",
       " 'maketrans',\n",
       " 'partition',\n",
       " 'replace',\n",
       " 'rfind',\n",
       " 'rindex',\n",
       " 'rjust',\n",
       " 'rpartition',\n",
       " 'rsplit',\n",
       " 'rstrip',\n",
       " 'split',\n",
       " 'splitlines',\n",
       " 'startswith',\n",
       " 'strip',\n",
       " 'swapcase',\n",
       " 'title',\n",
       " 'translate',\n",
       " 'upper',\n",
       " 'zfill']"
      ]
     },
     "execution_count": 14,
     "metadata": {},
     "output_type": "execute_result"
    }
   ],
   "source": [
    "#syntax for string\n",
    "s=\"Hello Apssdc\"\n",
    "type(s)\n",
    "dir(str)"
   ]
  },
  {
   "cell_type": "code",
   "execution_count": 15,
   "metadata": {},
   "outputs": [
    {
     "data": {
      "text/plain": [
       "12"
      ]
     },
     "execution_count": 15,
     "metadata": {},
     "output_type": "execute_result"
    }
   ],
   "source": [
    "len(s)#length of the string"
   ]
  },
  {
   "cell_type": "code",
   "execution_count": 16,
   "metadata": {},
   "outputs": [
    {
     "data": {
      "text/plain": [
       "'Hello Apssdc'"
      ]
     },
     "execution_count": 16,
     "metadata": {},
     "output_type": "execute_result"
    }
   ],
   "source": [
    "## Indexing of strings \n",
    "s"
   ]
  },
  {
   "cell_type": "code",
   "execution_count": 17,
   "metadata": {},
   "outputs": [
    {
     "data": {
      "text/plain": [
       "'H'"
      ]
     },
     "execution_count": 17,
     "metadata": {},
     "output_type": "execute_result"
    }
   ],
   "source": [
    "#Positive indexing\n",
    "s[0]#We get the first index of the string"
   ]
  },
  {
   "cell_type": "code",
   "execution_count": 18,
   "metadata": {},
   "outputs": [
    {
     "data": {
      "text/plain": [
       "'o'"
      ]
     },
     "execution_count": 18,
     "metadata": {},
     "output_type": "execute_result"
    }
   ],
   "source": [
    "s[4]#for getting 4th index"
   ]
  },
  {
   "cell_type": "code",
   "execution_count": 19,
   "metadata": {},
   "outputs": [
    {
     "data": {
      "text/plain": [
       "'c'"
      ]
     },
     "execution_count": 19,
     "metadata": {},
     "output_type": "execute_result"
    }
   ],
   "source": [
    "#Negitive Indexing\n",
    "s[-1]"
   ]
  },
  {
   "cell_type": "code",
   "execution_count": 20,
   "metadata": {},
   "outputs": [
    {
     "data": {
      "text/plain": [
       "'p'"
      ]
     },
     "execution_count": 20,
     "metadata": {},
     "output_type": "execute_result"
    }
   ],
   "source": [
    "s[-5]"
   ]
  },
  {
   "cell_type": "code",
   "execution_count": 23,
   "metadata": {},
   "outputs": [
    {
     "data": {
      "text/plain": [
       "'Hello'"
      ]
     },
     "execution_count": 23,
     "metadata": {},
     "output_type": "execute_result"
    }
   ],
   "source": [
    "s[0:5]#range set "
   ]
  },
  {
   "cell_type": "code",
   "execution_count": 24,
   "metadata": {},
   "outputs": [
    {
     "data": {
      "text/plain": [
       "' Apssdc'"
      ]
     },
     "execution_count": 24,
     "metadata": {},
     "output_type": "execute_result"
    }
   ],
   "source": [
    "s[5:12]"
   ]
  },
  {
   "cell_type": "code",
   "execution_count": 25,
   "metadata": {},
   "outputs": [
    {
     "data": {
      "text/plain": [
       "'cdsspA olleH'"
      ]
     },
     "execution_count": 25,
     "metadata": {},
     "output_type": "execute_result"
    }
   ],
   "source": [
    "#String Reverse \n",
    "s[::-1]"
   ]
  },
  {
   "cell_type": "code",
   "execution_count": 28,
   "metadata": {},
   "outputs": [
    {
     "name": "stdout",
     "output_type": "stream",
     "text": [
      "cdsspA olleH\n"
     ]
    }
   ],
   "source": [
    "s=s[::-1]\n",
    "print(s)"
   ]
  },
  {
   "cell_type": "code",
   "execution_count": 33,
   "metadata": {},
   "outputs": [
    {
     "data": {
      "text/plain": [
       "'Hello Apssdc'"
      ]
     },
     "execution_count": 33,
     "metadata": {},
     "output_type": "execute_result"
    }
   ],
   "source": [
    "s1=s[::-1]\n",
    "s1"
   ]
  },
  {
   "cell_type": "code",
   "execution_count": 34,
   "metadata": {},
   "outputs": [
    {
     "data": {
      "text/plain": [
       "False"
      ]
     },
     "execution_count": 34,
     "metadata": {},
     "output_type": "execute_result"
    }
   ],
   "source": [
    "s1.islower()"
   ]
  },
  {
   "cell_type": "code",
   "execution_count": 35,
   "metadata": {},
   "outputs": [
    {
     "data": {
      "text/plain": [
       "False"
      ]
     },
     "execution_count": 35,
     "metadata": {},
     "output_type": "execute_result"
    }
   ],
   "source": [
    "s1.isupper()"
   ]
  },
  {
   "cell_type": "code",
   "execution_count": 36,
   "metadata": {},
   "outputs": [
    {
     "data": {
      "text/plain": [
       "True"
      ]
     },
     "execution_count": 36,
     "metadata": {},
     "output_type": "execute_result"
    }
   ],
   "source": [
    "n=\"CBIT\"\n",
    "n.isupper()#for checking upper letters"
   ]
  },
  {
   "cell_type": "code",
   "execution_count": 37,
   "metadata": {},
   "outputs": [
    {
     "data": {
      "text/plain": [
       "True"
      ]
     },
     "execution_count": 37,
     "metadata": {},
     "output_type": "execute_result"
    }
   ],
   "source": [
    "n1=\"python\"\n",
    "n1.islower()#for checking lower letters"
   ]
  },
  {
   "cell_type": "code",
   "execution_count": 40,
   "metadata": {},
   "outputs": [
    {
     "data": {
      "text/plain": [
       "'hELLO aPSSDC'"
      ]
     },
     "execution_count": 40,
     "metadata": {},
     "output_type": "execute_result"
    }
   ],
   "source": [
    "#Convert into upper to lower and lower to upper case \n",
    "s1.swapcase()"
   ]
  },
  {
   "cell_type": "code",
   "execution_count": 42,
   "metadata": {},
   "outputs": [
    {
     "name": "stdout",
     "output_type": "stream",
     "text": [
      "This is Python Workshop\n"
     ]
    }
   ],
   "source": [
    "String_Data=\"This is Python Workshop\"\n",
    "print(String_Data)"
   ]
  },
  {
   "cell_type": "code",
   "execution_count": 46,
   "metadata": {},
   "outputs": [
    {
     "data": {
      "text/plain": [
       "'This is Python Worksho'"
      ]
     },
     "execution_count": 46,
     "metadata": {},
     "output_type": "execute_result"
    }
   ],
   "source": [
    "String_Data[:-1]"
   ]
  },
  {
   "cell_type": "code",
   "execution_count": 47,
   "metadata": {
    "scrolled": true
   },
   "outputs": [
    {
     "name": "stdout",
     "output_type": "stream",
     "text": [
      "['__add__', '__class__', '__contains__', '__delattr__', '__dir__', '__doc__', '__eq__', '__format__', '__ge__', '__getattribute__', '__getitem__', '__getnewargs__', '__gt__', '__hash__', '__init__', '__init_subclass__', '__iter__', '__le__', '__len__', '__lt__', '__mod__', '__mul__', '__ne__', '__new__', '__reduce__', '__reduce_ex__', '__repr__', '__rmod__', '__rmul__', '__setattr__', '__sizeof__', '__str__', '__subclasshook__', 'capitalize', 'casefold', 'center', 'count', 'encode', 'endswith', 'expandtabs', 'find', 'format', 'format_map', 'index', 'isalnum', 'isalpha', 'isascii', 'isdecimal', 'isdigit', 'isidentifier', 'islower', 'isnumeric', 'isprintable', 'isspace', 'istitle', 'isupper', 'join', 'ljust', 'lower', 'lstrip', 'maketrans', 'partition', 'replace', 'rfind', 'rindex', 'rjust', 'rpartition', 'rsplit', 'rstrip', 'split', 'splitlines', 'startswith', 'strip', 'swapcase', 'title', 'translate', 'upper', 'zfill']\n"
     ]
    }
   ],
   "source": [
    "print(dir(str))"
   ]
  },
  {
   "cell_type": "code",
   "execution_count": 3,
   "metadata": {},
   "outputs": [
    {
     "name": "stdout",
     "output_type": "stream",
     "text": [
      "this is python workshop\n",
      "This is python Workshop\n"
     ]
    }
   ],
   "source": [
    "data=\"This is python Workshop\"\n",
    "print(data.casefold())\n",
    "new_data=data.center(len(data),\"*\")\n",
    "print(new_data)"
   ]
  },
  {
   "cell_type": "code",
   "execution_count": null,
   "metadata": {},
   "outputs": [],
   "source": [
    "# input:\n",
    "#     data=\"strings in python\"\n",
    "# output:\n",
    "#     s-->2\n",
    "#     t-->2\n",
    "#     r-->1\n",
    "    \n",
    "#     n-->\n",
    "# data=\"String in Python\"\n",
    "data=input(\"Enter Your String Data..\")\n",
    "print(data)\n",
    "for ch in range(0,len(data)):\n",
    "    print(data[ch],\"-->\",data.count(data[ch]))\n"
   ]
  },
  {
   "cell_type": "code",
   "execution_count": 65,
   "metadata": {},
   "outputs": [
    {
     "name": "stdout",
     "output_type": "stream",
     "text": [
      "57\n"
     ]
    }
   ],
   "source": [
    "print(ord('9'))"
   ]
  },
  {
   "cell_type": "code",
   "execution_count": 68,
   "metadata": {
    "scrolled": false
   },
   "outputs": [
    {
     "name": "stdout",
     "output_type": "stream",
     "text": [
      "\u0000 --> 0\n",
      "\u0001 --> 1\n",
      "\u0002 --> 2\n",
      "\u0003 --> 3\n",
      "\u0004 --> 4\n",
      "\u0005 --> 5\n",
      "\u0006 --> 6\n",
      "\u0007 --> 7\n",
      "\b --> 8\n",
      "\t --> 9\n",
      "\n",
      " --> 10\n",
      "\u000b",
      " --> 11\n",
      "\f",
      " --> 12\n",
      "\r",
      " --> 13\n",
      "\u000e --> 14\n",
      "\u000f --> 15\n",
      "\u0010 --> 16\n",
      "\u0011 --> 17\n",
      "\u0012 --> 18\n",
      "\u0013 --> 19\n",
      "\u0014 --> 20\n",
      "\u0015 --> 21\n",
      "\u0016 --> 22\n",
      "\u0017 --> 23\n",
      "\u0018 --> 24\n",
      "\u0019 --> 25\n",
      "\u001a --> 26\n",
      "\u001b --> 27\n",
      "\u001c",
      " --> 28\n",
      "\u001d",
      " --> 29\n",
      "\u001e",
      " --> 30\n",
      "\u001f --> 31\n",
      "  --> 32\n",
      "! --> 33\n",
      "\" --> 34\n",
      "# --> 35\n",
      "$ --> 36\n",
      "% --> 37\n",
      "& --> 38\n",
      "' --> 39\n",
      "( --> 40\n",
      ") --> 41\n",
      "* --> 42\n",
      "+ --> 43\n",
      ", --> 44\n",
      "- --> 45\n",
      ". --> 46\n",
      "/ --> 47\n",
      "0 --> 48\n",
      "1 --> 49\n",
      "2 --> 50\n",
      "3 --> 51\n",
      "4 --> 52\n",
      "5 --> 53\n",
      "6 --> 54\n",
      "7 --> 55\n",
      "8 --> 56\n",
      "9 --> 57\n",
      ": --> 58\n",
      "; --> 59\n",
      "< --> 60\n",
      "= --> 61\n",
      "> --> 62\n",
      "? --> 63\n",
      "@ --> 64\n",
      "A --> 65\n",
      "B --> 66\n",
      "C --> 67\n",
      "D --> 68\n",
      "E --> 69\n",
      "F --> 70\n",
      "G --> 71\n",
      "H --> 72\n",
      "I --> 73\n",
      "J --> 74\n",
      "K --> 75\n",
      "L --> 76\n",
      "M --> 77\n",
      "N --> 78\n",
      "O --> 79\n",
      "P --> 80\n",
      "Q --> 81\n",
      "R --> 82\n",
      "S --> 83\n",
      "T --> 84\n",
      "U --> 85\n",
      "V --> 86\n",
      "W --> 87\n",
      "X --> 88\n",
      "Y --> 89\n",
      "Z --> 90\n",
      "[ --> 91\n",
      "\\ --> 92\n",
      "] --> 93\n",
      "^ --> 94\n",
      "_ --> 95\n",
      "` --> 96\n",
      "a --> 97\n",
      "b --> 98\n",
      "c --> 99\n",
      "d --> 100\n",
      "e --> 101\n",
      "f --> 102\n",
      "g --> 103\n",
      "h --> 104\n",
      "i --> 105\n",
      "j --> 106\n",
      "k --> 107\n",
      "l --> 108\n",
      "m --> 109\n",
      "n --> 110\n",
      "o --> 111\n",
      "p --> 112\n",
      "q --> 113\n",
      "r --> 114\n",
      "s --> 115\n",
      "t --> 116\n",
      "u --> 117\n",
      "v --> 118\n",
      "w --> 119\n",
      "x --> 120\n",
      "y --> 121\n",
      "z --> 122\n",
      "{ --> 123\n",
      "| --> 124\n",
      "} --> 125\n",
      "~ --> 126\n",
      " --> 127\n"
     ]
    }
   ],
   "source": [
    "#printing Both Ascii Values and  Character\n",
    "for i in range(0,128):\n",
    "    print(chr(i),'-->',ord(chr(i)))"
   ]
  },
  {
   "cell_type": "code",
   "execution_count": 1,
   "metadata": {},
   "outputs": [
    {
     "name": "stdout",
     "output_type": "stream",
     "text": [
      "Enter Your String dataMynameisViajyFrom APSSDC!@#$\n",
      "Capital Letters Count: 9\n",
      "Small Letters Count: 14\n",
      "Special Symboles Count: 5\n",
      "Total Charaters Count : 28\n",
      "Satisfied\n"
     ]
    }
   ],
   "source": [
    "# input:\"MynameisViajyFrom APSSDC!@#$\"\n",
    "# output:\n",
    "#      Captal Letters Count is -->10\n",
    "#      Small Letters Count is -->?\n",
    "#      Special Symbols count is -->4\n",
    "#      Total Charaters count is -->?\n",
    "input_data=input(\"Enter Your String data\")\n",
    "C_count=0\n",
    "S_count=0\n",
    "Sp_Count=0\n",
    "T_count=0\n",
    "\n",
    "for i in range(0,len(input_data)):\n",
    "    T_count=T_count+1\n",
    "    if(ord(input_data[i])>=65 and ord(input_data[i]) <=90):\n",
    "        C_count=C_count+1\n",
    "    elif(ord(input_data[i])>=97 and ord(input_data[i])<=122):\n",
    "        S_count=S_count+1\n",
    "    else:\n",
    "        Sp_Count=Sp_Count+1\n",
    "print(\"Capital Letters Count:\",C_count)\n",
    "print(\"Small Letters Count:\",S_count)\n",
    "print(\"Special Symboles Count:\",Sp_Count)\n",
    "print(\"Total Charaters Count :\",T_count)\n",
    "if((C_count+S_count+Sp_Count)==T_count):\n",
    "    print(\"Satisfied\")\n",
    "else:\n",
    "    print(\"not Satisfied\")"
   ]
  },
  {
   "cell_type": "code",
   "execution_count": 5,
   "metadata": {},
   "outputs": [
    {
     "name": "stdout",
     "output_type": "stream",
     "text": [
      "Enter StringMalayalam\n",
      "malayalaM Malayalam\n",
      "not A palidrome\n"
     ]
    }
   ],
   "source": [
    "# Input:malayalam\n",
    "# output:malayalam\n",
    "input_data=input(\"Enter String\")\n",
    "reverse_data=input_data[::-1]\n",
    "print(reverse_data,input_data)\n",
    "if(input_data==reverse_data):\n",
    "    print(\"it is a palindrome\")\n",
    "else:\n",
    "    print(\"not A palidrome\")"
   ]
  },
  {
   "cell_type": "code",
   "execution_count": 4,
   "metadata": {},
   "outputs": [
    {
     "name": "stdout",
     "output_type": "stream",
     "text": [
      "['__add__', '__class__', '__contains__', '__delattr__', '__dir__', '__doc__', '__eq__', '__format__', '__ge__', '__getattribute__', '__getitem__', '__getnewargs__', '__gt__', '__hash__', '__init__', '__init_subclass__', '__iter__', '__le__', '__len__', '__lt__', '__mod__', '__mul__', '__ne__', '__new__', '__reduce__', '__reduce_ex__', '__repr__', '__rmod__', '__rmul__', '__setattr__', '__sizeof__', '__str__', '__subclasshook__', 'capitalize', 'casefold', 'center', 'count', 'encode', 'endswith', 'expandtabs', 'find', 'format', 'format_map', 'index', 'isalnum', 'isalpha', 'isascii', 'isdecimal', 'isdigit', 'isidentifier', 'islower', 'isnumeric', 'isprintable', 'isspace', 'istitle', 'isupper', 'join', 'ljust', 'lower', 'lstrip', 'maketrans', 'partition', 'replace', 'rfind', 'rindex', 'rjust', 'rpartition', 'rsplit', 'rstrip', 'split', 'splitlines', 'startswith', 'strip', 'swapcase', 'title', 'translate', 'upper', 'zfill']\n"
     ]
    }
   ],
   "source": [
    "print(dir(str))"
   ]
  },
  {
   "cell_type": "code",
   "execution_count": 13,
   "metadata": {},
   "outputs": [
    {
     "name": "stdout",
     "output_type": "stream",
     "text": [
      "ABGH\n",
      "2256\n"
     ]
    }
   ],
   "source": [
    "# input:\n",
    "#     Data=\"A2B2G5H6\"\n",
    "# output:AAABBBGGGGGGHHHHHHH\n",
    "# a_data=\"\"\n",
    "# n_data=\"\"\n",
    "# for ch in Data:\n",
    "#     if ch.isalpha():\n",
    "#         a_data=a_data+ch\n",
    "#     if ch.isnumeric():\n",
    "#         n_data=n_data+ch\n",
    "# print(a_data)\n",
    "# print(n_data)\n",
    "# print(Data[0::2])\n",
    "# print(Data[1::2])"
   ]
  },
  {
   "cell_type": "code",
   "execution_count": 22,
   "metadata": {},
   "outputs": [
    {
     "name": "stdout",
     "output_type": "stream",
     "text": [
      "ABHT\n",
      "4397\n",
      "AAAABBBHHHHHHHHHTTTTTTT"
     ]
    }
   ],
   "source": [
    "data=\"A4B3H9T7\"\n",
    "a_data=data[0::2]\n",
    "print(a_data)\n",
    "n_data=data[1::2]\n",
    "l=len(data)//2\n",
    "print(n_data)\n",
    "for i in range(l):\n",
    "    print(a_data[i]*int(n_data[i]),end=\"\")"
   ]
  },
  {
   "cell_type": "code",
   "execution_count": 28,
   "metadata": {},
   "outputs": [
    {
     "name": "stdout",
     "output_type": "stream",
     "text": [
      "SDghyrGHR 5457844\n",
      "9 7\n",
      "7\n",
      "SDghyrG\n",
      "SSSSSDDDDggggghhhhhhhyyyyyyyyrrrrGGGG"
     ]
    }
   ],
   "source": [
    "data=\"54SDghyr57844GHR\"\n",
    "a_data=\"\"\n",
    "n_data=\"\"\n",
    "# Separating Numaric Data and Charaters\n",
    "for ch in data:\n",
    "    if(ch.isalpha()):\n",
    "        a_data=a_data+ch\n",
    "    elif(ch.isnumeric()):\n",
    "        n_data=n_data+ch\n",
    "#printing After Separating\n",
    "print(a_data,n_data)\n",
    "# Storing Length\n",
    "l1=len(a_data)\n",
    "l2=len(n_data)\n",
    "# printing Both Lengths\n",
    "print(l1,l2)\n",
    "# Finding Minimum Length\n",
    "minimum=0\n",
    "if(l1>l2):\n",
    "    minimum=l2\n",
    "print(minimum)\n",
    "#  After Finding Min we need Store That charaters into to a_Data by using String Slicing\n",
    "a_data=a_data[0:7]\n",
    "# printing After Slicing Data\n",
    "print(a_data)\n",
    "# Final required output\n",
    "for i in range(l2):\n",
    "    print(a_data[i]*int(n_data[i]),end=\"\")"
   ]
  },
  {
   "cell_type": "markdown",
   "metadata": {},
   "source": [
    "# Funtions in python \n",
    "* Collection of statements called Funtions \n",
    "* Four Types\n",
    "    1. A Function with arg[] and with return values\n",
    "    2. A Funtion with arg[] and with out return value\n",
    "    3. A Funtion with out arg[] and with return value\n",
    "    4. A Funtion with out arg[] and with out return value"
   ]
  },
  {
   "cell_type": "code",
   "execution_count": 29,
   "metadata": {},
   "outputs": [
    {
     "name": "stdout",
     "output_type": "stream",
     "text": [
      "Enter the First value 6\n",
      "Enter the Second Value 3\n",
      "The additon of  6  and  3 is  9\n"
     ]
    }
   ],
   "source": [
    "#A Funtion with out arg[] and with out return value\n",
    "# Funtion to addtion of two numbers\n",
    "\"\"\"    def funtion_name():\n",
    "        #..Stms..\n",
    "    funtion_name()\"\"\"\n",
    "def addtion():\n",
    "    a=int(input(\"Enter the First value \"))\n",
    "    b=int(input(\"Enter the Second Value \"))\n",
    "    print(\"The additon of \",a,\" and \",b,\"is \",a+b)\n",
    "addtion()"
   ]
  },
  {
   "cell_type": "code",
   "execution_count": 33,
   "metadata": {},
   "outputs": [
    {
     "name": "stdout",
     "output_type": "stream",
     "text": [
      "Enter the First value 4\n",
      "Enter the Second Value 2\n",
      "The Subtract of  4  and  2 is  2\n"
     ]
    }
   ],
   "source": [
    "#Funtion with arg[] and with out return value\n",
    "#Subtract\n",
    "def subtraction(a,b):\n",
    "    print(\"The Subtract of \",a,\" and \",b,\"is \",a-b)\n",
    "    \n",
    "a=int(input(\"Enter the First value \"))\n",
    "b=int(input(\"Enter the Second Value \"))\n",
    "subtraction(a,b)"
   ]
  },
  {
   "cell_type": "code",
   "execution_count": null,
   "metadata": {},
   "outputs": [],
   "source": []
  },
  {
   "cell_type": "code",
   "execution_count": 35,
   "metadata": {},
   "outputs": [
    {
     "data": {
      "text/plain": [
       "24"
      ]
     },
     "execution_count": 35,
     "metadata": {},
     "output_type": "execute_result"
    }
   ],
   "source": [
    "# A Function with arg[] and with return values\n",
    "#multiplication\n",
    "a=6\n",
    "b=4\n",
    "def multiplication(a,b):\n",
    "    return a*b\n",
    "multiplication(a,b)"
   ]
  },
  {
   "cell_type": "code",
   "execution_count": 39,
   "metadata": {},
   "outputs": [
    {
     "data": {
      "text/plain": [
       "1"
      ]
     },
     "execution_count": 39,
     "metadata": {},
     "output_type": "execute_result"
    }
   ],
   "source": [
    "#A Funtion with out arg[] and with return value\n",
    "#Floor Division\n",
    "a=5\n",
    "b=3\n",
    "def division():\n",
    "    return a//b\n",
    "division()"
   ]
  },
  {
   "cell_type": "code",
   "execution_count": null,
   "metadata": {},
   "outputs": [],
   "source": [
    "#Task :\n",
    "    #Funtion to perform the Calculator app \n",
    "#From user gives the Four options \n",
    "    #1.Addition\n",
    "    #2.Subtraction\n",
    "    #3.Multiplication\n",
    "    #4.Floor Division\n",
    "    #5.Exist\n",
    "    #if enter any invalid option then return \"Invalid Choice\" "
   ]
  },
  {
   "cell_type": "code",
   "execution_count": 40,
   "metadata": {},
   "outputs": [
    {
     "name": "stdout",
     "output_type": "stream",
     "text": [
      "The Subtract of  8  and  3 is  5\n"
     ]
    }
   ],
   "source": [
    "subtraction(8,3)"
   ]
  },
  {
   "cell_type": "code",
   "execution_count": 41,
   "metadata": {},
   "outputs": [
    {
     "name": "stdout",
     "output_type": "stream",
     "text": [
      "Enter the First value 3\n",
      "Enter the Second Value 2\n",
      "The additon of  3  and  2 is  5\n"
     ]
    }
   ],
   "source": [
    "addtion()"
   ]
  },
  {
   "cell_type": "code",
   "execution_count": 54,
   "metadata": {},
   "outputs": [
    {
     "name": "stdout",
     "output_type": "stream",
     "text": [
      "The additon of  2  and  2 is  4\n"
     ]
    }
   ],
   "source": [
    "#Addtion\n",
    "def add(a,b):\n",
    "    print(\"The additon of \",a,\" and \",b,\"is \",a+b)\n",
    "add(a,b)"
   ]
  },
  {
   "cell_type": "code",
   "execution_count": 53,
   "metadata": {},
   "outputs": [
    {
     "name": "stdout",
     "output_type": "stream",
     "text": [
      "The sub of  2  and  2 is  0\n"
     ]
    }
   ],
   "source": [
    "def sub(a,b):\n",
    "    print(\"The sub of \",a,\" and \",b,\"is \",a-b)\n",
    "sub(a,b)"
   ]
  },
  {
   "cell_type": "code",
   "execution_count": 55,
   "metadata": {},
   "outputs": [
    {
     "name": "stdout",
     "output_type": "stream",
     "text": [
      "The mul of  2  and  2 is  4\n"
     ]
    }
   ],
   "source": [
    "def mul(a,b):\n",
    "    print(\"The mul of \",a,\" and \",b,\"is \",a*b)\n",
    "mul(a,b)"
   ]
  },
  {
   "cell_type": "code",
   "execution_count": 52,
   "metadata": {},
   "outputs": [
    {
     "name": "stdout",
     "output_type": "stream",
     "text": [
      "The fdiv of  2  and  2 is  1\n"
     ]
    }
   ],
   "source": [
    "def fdiv(a,b):\n",
    "    print(\"The fdiv of \",a,\" and \",b,\"is \",a//b)\n",
    "fdiv(a,b)"
   ]
  },
  {
   "cell_type": "code",
   "execution_count": 59,
   "metadata": {},
   "outputs": [
    {
     "name": "stdout",
     "output_type": "stream",
     "text": [
      "1.Addition\n",
      "2.Subtration\n",
      "3.Mulplication\n",
      "4.Floor Division\n",
      "5.Exit\n",
      "Enter the User Choice..8\n",
      "Invalid Option\n",
      "1.Addition\n",
      "2.Subtration\n",
      "3.Mulplication\n",
      "4.Floor Division\n",
      "5.Exit\n",
      "Enter the User Choice..5\n"
     ]
    },
    {
     "data": {
      "text/plain": [
       "True"
      ]
     },
     "execution_count": 59,
     "metadata": {},
     "output_type": "execute_result"
    }
   ],
   "source": [
    "#Funtion to create a Calculator app\n",
    "def calculatorAPP():\n",
    "    while True:\n",
    "        print(\"1.Addition\\n2.Subtration\\n3.Mulplication\\n4.Floor Division\\n5.Exit\")\n",
    "        user_choice=int(input(\"Enter the User Choice..\"))\n",
    "        if user_choice==1:\n",
    "            a=int(input(\"Enter the First value \"))\n",
    "            b=int(input(\"Enter the Second Value \"))    \n",
    "            add(a,b)\n",
    "        elif user_choice==2:\n",
    "            a=int(input(\"Enter the First value \"))\n",
    "            b=int(input(\"Enter the Second Value \"))   \n",
    "            sub(a,b)\n",
    "        elif user_choice==3:\n",
    "            a=int(input(\"Enter the First value \"))\n",
    "            b=int(input(\"Enter the Second Value \"))   \n",
    "            mul(a,b)\n",
    "        elif user_choice==4:\n",
    "            a=int(input(\"Enter the First value \"))\n",
    "            b=int(input(\"Enter the Second Value \"))   \n",
    "            fdiv(a,b)\n",
    "        elif user_choice==5:\n",
    "                return True\n",
    "        else:\n",
    "            print(\"Invalid Option\")\n",
    "calculatorAPP()"
   ]
  },
  {
   "cell_type": "markdown",
   "metadata": {},
   "source": [
    "## List In python\n",
    "* List contains colletion of heterogenoues Data\n",
    "* List in the form of Mutable(we can modify data)\n",
    "* List contains Duplicates Data\n",
    "* List can reprasents symbol as like this []"
   ]
  },
  {
   "cell_type": "code",
   "execution_count": 60,
   "metadata": {},
   "outputs": [
    {
     "name": "stdout",
     "output_type": "stream",
     "text": [
      "['__add__', '__class__', '__contains__', '__delattr__', '__delitem__', '__dir__', '__doc__', '__eq__', '__format__', '__ge__', '__getattribute__', '__getitem__', '__gt__', '__hash__', '__iadd__', '__imul__', '__init__', '__init_subclass__', '__iter__', '__le__', '__len__', '__lt__', '__mul__', '__ne__', '__new__', '__reduce__', '__reduce_ex__', '__repr__', '__reversed__', '__rmul__', '__setattr__', '__setitem__', '__sizeof__', '__str__', '__subclasshook__', 'append', 'clear', 'copy', 'count', 'extend', 'index', 'insert', 'pop', 'remove', 'reverse', 'sort']\n"
     ]
    }
   ],
   "source": [
    "print(dir(list))"
   ]
  },
  {
   "cell_type": "code",
   "execution_count": 61,
   "metadata": {},
   "outputs": [
    {
     "data": {
      "text/plain": [
       "[1, 3, 2, 4, 2, 5]"
      ]
     },
     "execution_count": 61,
     "metadata": {},
     "output_type": "execute_result"
    }
   ],
   "source": [
    "l=[1,3,2,4,2,5]\n",
    "l"
   ]
  },
  {
   "cell_type": "code",
   "execution_count": 62,
   "metadata": {},
   "outputs": [
    {
     "data": {
      "text/plain": [
       "4"
      ]
     },
     "execution_count": 62,
     "metadata": {},
     "output_type": "execute_result"
    }
   ],
   "source": [
    "l[3]# We get the data of index of 4"
   ]
  },
  {
   "cell_type": "code",
   "execution_count": 67,
   "metadata": {},
   "outputs": [
    {
     "data": {
      "text/plain": [
       "[5, 4, 3, 2, 2, 1]"
      ]
     },
     "execution_count": 67,
     "metadata": {},
     "output_type": "execute_result"
    }
   ],
   "source": [
    "sorted(l,reverse=True)# reverse Sorting order  "
   ]
  },
  {
   "cell_type": "code",
   "execution_count": 68,
   "metadata": {},
   "outputs": [
    {
     "data": {
      "text/plain": [
       "17"
      ]
     },
     "execution_count": 68,
     "metadata": {},
     "output_type": "execute_result"
    }
   ],
   "source": [
    "sum(l)"
   ]
  },
  {
   "cell_type": "code",
   "execution_count": 69,
   "metadata": {},
   "outputs": [
    {
     "data": {
      "text/plain": [
       "1"
      ]
     },
     "execution_count": 69,
     "metadata": {},
     "output_type": "execute_result"
    }
   ],
   "source": [
    "min(l)"
   ]
  },
  {
   "cell_type": "code",
   "execution_count": 70,
   "metadata": {},
   "outputs": [
    {
     "data": {
      "text/plain": [
       "5"
      ]
     },
     "execution_count": 70,
     "metadata": {},
     "output_type": "execute_result"
    }
   ],
   "source": [
    "max(l)"
   ]
  },
  {
   "cell_type": "code",
   "execution_count": null,
   "metadata": {},
   "outputs": [],
   "source": []
  },
  {
   "cell_type": "code",
   "execution_count": 71,
   "metadata": {},
   "outputs": [
    {
     "data": {
      "text/plain": [
       "3"
      ]
     },
     "execution_count": 71,
     "metadata": {},
     "output_type": "execute_result"
    }
   ],
   "source": [
    "l[-3]"
   ]
  },
  {
   "cell_type": "code",
   "execution_count": 72,
   "metadata": {},
   "outputs": [
    {
     "data": {
      "text/plain": [
       "[1, 2, 2, 3, 4, 5]"
      ]
     },
     "execution_count": 72,
     "metadata": {},
     "output_type": "execute_result"
    }
   ],
   "source": [
    "l"
   ]
  },
  {
   "cell_type": "code",
   "execution_count": 73,
   "metadata": {},
   "outputs": [
    {
     "data": {
      "text/plain": [
       "['ap', 'apssdc', 'cbit']"
      ]
     },
     "execution_count": 73,
     "metadata": {},
     "output_type": "execute_result"
    }
   ],
   "source": [
    "li=[\"cbit\",\"ap\",\"apssdc\"]\n",
    "sorted(li)"
   ]
  },
  {
   "cell_type": "code",
   "execution_count": 75,
   "metadata": {},
   "outputs": [
    {
     "name": "stdout",
     "output_type": "stream",
     "text": [
      "['cbit', 'ap', 'apssdc', 'muni', 'muni']\n"
     ]
    }
   ],
   "source": [
    "li.append(\"muni\")\n",
    "print(li)"
   ]
  },
  {
   "cell_type": "code",
   "execution_count": 76,
   "metadata": {},
   "outputs": [
    {
     "data": {
      "text/plain": [
       "'muni'"
      ]
     },
     "execution_count": 76,
     "metadata": {},
     "output_type": "execute_result"
    }
   ],
   "source": [
    "li.pop()"
   ]
  },
  {
   "cell_type": "code",
   "execution_count": 77,
   "metadata": {},
   "outputs": [
    {
     "data": {
      "text/plain": [
       "['cbit', 'ap', 'apssdc', 'muni']"
      ]
     },
     "execution_count": 77,
     "metadata": {},
     "output_type": "execute_result"
    }
   ],
   "source": [
    "li"
   ]
  },
  {
   "cell_type": "code",
   "execution_count": 78,
   "metadata": {},
   "outputs": [],
   "source": [
    "li.remove(\"ap\")"
   ]
  },
  {
   "cell_type": "code",
   "execution_count": 79,
   "metadata": {},
   "outputs": [
    {
     "data": {
      "text/plain": [
       "['cbit', 'apssdc', 'muni']"
      ]
     },
     "execution_count": 79,
     "metadata": {},
     "output_type": "execute_result"
    }
   ],
   "source": [
    "li"
   ]
  },
  {
   "cell_type": "code",
   "execution_count": 80,
   "metadata": {},
   "outputs": [
    {
     "data": {
      "text/plain": [
       "3"
      ]
     },
     "execution_count": 80,
     "metadata": {},
     "output_type": "execute_result"
    }
   ],
   "source": [
    "len(li)"
   ]
  },
  {
   "cell_type": "code",
   "execution_count": 81,
   "metadata": {},
   "outputs": [
    {
     "data": {
      "text/plain": [
       "['ap', 'cbit proddatur', 'muni', 'sai', 'tilak', 'vikyath']"
      ]
     },
     "execution_count": 81,
     "metadata": {},
     "output_type": "execute_result"
    }
   ],
   "source": [
    "#Task \n",
    "s=[\"sai\",\"ap\",\"muni\",\"cbit proddatur\",\"vikyath\",\"tilak\"]\n",
    "sorted(s)"
   ]
  },
  {
   "cell_type": "code",
   "execution_count": 84,
   "metadata": {},
   "outputs": [
    {
     "name": "stdout",
     "output_type": "stream",
     "text": [
      "['ap', 'sai', 'muni', 'tilak', 'vikyath', 'cbit proddatur']\n"
     ]
    }
   ],
   "source": [
    "print(sorted(s,key=len))"
   ]
  },
  {
   "cell_type": "markdown",
   "metadata": {},
   "source": [
    "Task\n",
    "s=\"QG51RT2Y34\"\n",
    "l1=[Q,G,R,T,Y]\n",
    "after sorting\n",
    "l1=[G,Q,R,T,Y]\n",
    "l2=[1,2,3,4,5]\n",
    "After Sorting\n",
    "l2=[1,2,3,4,5]\n",
    "l3=[H,S,V,X,D]"
   ]
  },
  {
   "cell_type": "code",
   "execution_count": null,
   "metadata": {},
   "outputs": [],
   "source": []
  },
  {
   "cell_type": "code",
   "execution_count": null,
   "metadata": {},
   "outputs": [],
   "source": []
  }
 ],
 "metadata": {
  "kernelspec": {
   "display_name": "Python 3",
   "language": "python",
   "name": "python3"
  },
  "language_info": {
   "codemirror_mode": {
    "name": "ipython",
    "version": 3
   },
   "file_extension": ".py",
   "mimetype": "text/x-python",
   "name": "python",
   "nbconvert_exporter": "python",
   "pygments_lexer": "ipython3",
   "version": "3.7.3"
  }
 },
 "nbformat": 4,
 "nbformat_minor": 2
}
