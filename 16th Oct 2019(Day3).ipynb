{
 "cells": [
  {
   "cell_type": "markdown",
   "metadata": {},
   "source": [
    "### Today's Objective\n",
    "* Tuples\n",
    "* Dictionaries\n",
    "* Pacakages and Modules \n",
    "* File DataProcessing\n",
    "* Sets \n",
    "* List Comprahension\n",
    "\n",
    "\n"
   ]
  },
  {
   "cell_type": "code",
   "execution_count": null,
   "metadata": {},
   "outputs": [],
   "source": [
    "#Problem sets\n",
    "#1.Check given number is prime or not\n",
    "    #ex.3,5,7,11,13..\n",
    "#2.Print all leap years given range(1900 to 2019)\n",
    "    #(y%400==0 or (y%4==0 and y%100!=0))\n",
    "#3.1000->5\n",
    "\n"
   ]
  },
  {
   "cell_type": "code",
   "execution_count": 2,
   "metadata": {},
   "outputs": [
    {
     "data": {
      "text/plain": [
       "['hello', 'cbit']"
      ]
     },
     "execution_count": 2,
     "metadata": {},
     "output_type": "execute_result"
    }
   ],
   "source": [
    "#String spilt\n",
    "s=\"hello-cbit\"\n",
    "s1=s.split(\"-\")\n",
    "s1\n"
   ]
  },
  {
   "cell_type": "code",
   "execution_count": 3,
   "metadata": {},
   "outputs": [
    {
     "data": {
      "text/plain": [
       "'hello-cbit'"
      ]
     },
     "execution_count": 3,
     "metadata": {},
     "output_type": "execute_result"
    }
   ],
   "source": [
    "#join\n",
    "s"
   ]
  },
  {
   "cell_type": "code",
   "execution_count": 7,
   "metadata": {},
   "outputs": [
    {
     "name": "stdout",
     "output_type": "stream",
     "text": [
      "h e l l o - c b i t\n"
     ]
    },
    {
     "ename": "ValueError",
     "evalue": "invalid literal for int() with base 10: 'h e l l o - c b i t'",
     "output_type": "error",
     "traceback": [
      "\u001b[1;31m---------------------------------------------------------------------------\u001b[0m",
      "\u001b[1;31mValueError\u001b[0m                                Traceback (most recent call last)",
      "\u001b[1;32m<ipython-input-7-b00b16941e78>\u001b[0m in \u001b[0;36m<module>\u001b[1;34m\u001b[0m\n\u001b[0;32m      1\u001b[0m \u001b[0ms2\u001b[0m\u001b[1;33m=\u001b[0m\u001b[1;34m\" \"\u001b[0m\u001b[1;33m.\u001b[0m\u001b[0mjoin\u001b[0m\u001b[1;33m(\u001b[0m\u001b[0ms\u001b[0m\u001b[1;33m)\u001b[0m\u001b[1;33m\u001b[0m\u001b[1;33m\u001b[0m\u001b[0m\n\u001b[0;32m      2\u001b[0m \u001b[0mprint\u001b[0m\u001b[1;33m(\u001b[0m\u001b[0ms2\u001b[0m\u001b[1;33m)\u001b[0m\u001b[1;33m\u001b[0m\u001b[1;33m\u001b[0m\u001b[0m\n\u001b[1;32m----> 3\u001b[1;33m \u001b[0mprint\u001b[0m\u001b[1;33m(\u001b[0m\u001b[0mint\u001b[0m\u001b[1;33m(\u001b[0m\u001b[0ms2\u001b[0m\u001b[1;33m)\u001b[0m\u001b[1;33m)\u001b[0m\u001b[1;33m\u001b[0m\u001b[1;33m\u001b[0m\u001b[0m\n\u001b[0m",
      "\u001b[1;31mValueError\u001b[0m: invalid literal for int() with base 10: 'h e l l o - c b i t'"
     ]
    }
   ],
   "source": [
    "s2=\" \".join(s)\n",
    "print(s2)\n",
    "print(int(s2))"
   ]
  },
  {
   "cell_type": "code",
   "execution_count": 6,
   "metadata": {},
   "outputs": [
    {
     "data": {
      "text/plain": [
       "['h', 'e', 'l', 'l', 'o', '-', 'c', 'b', 'i', 't']"
      ]
     },
     "execution_count": 6,
     "metadata": {},
     "output_type": "execute_result"
    }
   ],
   "source": [
    "s2.split(\" \")"
   ]
  },
  {
   "cell_type": "code",
   "execution_count": 8,
   "metadata": {},
   "outputs": [
    {
     "data": {
      "text/plain": [
       "[1, 5, 6, 4, 1, 2, 7, 7]"
      ]
     },
     "execution_count": 8,
     "metadata": {},
     "output_type": "execute_result"
    }
   ],
   "source": [
    "l=[1,5,6,4,1,2,7,7]\n",
    "l"
   ]
  },
  {
   "cell_type": "code",
   "execution_count": 9,
   "metadata": {},
   "outputs": [
    {
     "name": "stdout",
     "output_type": "stream",
     "text": [
      "[1, 5, 6, 4, 2, 7]\n"
     ]
    }
   ],
   "source": [
    "# input:[1,5,6,4,1,2,7,7]\n",
    "# output:[1,2,4,5,6,7]\n",
    "\n",
    "emptyList=[]\n",
    "for i in l:\n",
    "    if i not in emptyList:\n",
    "        emptyList.append(i)\n",
    "        \n",
    "print(emptyList)       \n",
    "        \n"
   ]
  },
  {
   "cell_type": "code",
   "execution_count": null,
   "metadata": {},
   "outputs": [],
   "source": [
    "Task -1\n",
    "l=[3,7,1,5,1,5,1,6,8,8,9,2]\n",
    "l2=[3,7,1,5,6,8,9,2]\n",
    "l3=[1,2,3,5,6,7,8,9]\n",
    "l4=[1,2,3,5,9,8,7,6]\n",
    "l5=[5,3,2,1,6,7,8,9]\n",
    "l6=[5,3,2,1,9,8,7,6]\n"
   ]
  },
  {
   "cell_type": "markdown",
   "metadata": {},
   "source": [
    "# Tuples\n",
    "* it is also contains collection of heterogenieoues  data set\n",
    "* It is immutable\n",
    "* It is reprasented as like this ()"
   ]
  },
  {
   "cell_type": "code",
   "execution_count": 26,
   "metadata": {},
   "outputs": [
    {
     "name": "stdout",
     "output_type": "stream",
     "text": [
      "the total count of 2 is  1\n",
      "Index of 8 is  5\n",
      "min num  1\n",
      "maximum number  8\n",
      "sum is  34\n"
     ]
    }
   ],
   "source": [
    "t=(1,2,4,4,4,8,4,6,1)\n",
    "print(\"the total count of 2 is \",t.count(2))\n",
    "print(\"Index of 8 is \",t.index(8))\n",
    "print(\"min num \",min(t))\n",
    "print(\"maximum number \",max(t))\n",
    "print(\"sum is \",sum(t))"
   ]
  },
  {
   "cell_type": "code",
   "execution_count": 15,
   "metadata": {},
   "outputs": [
    {
     "name": "stdout",
     "output_type": "stream",
     "text": [
      "['__add__', '__class__', '__contains__', '__delattr__', '__dir__', '__doc__', '__eq__', '__format__', '__ge__', '__getattribute__', '__getitem__', '__getnewargs__', '__gt__', '__hash__', '__init__', '__init_subclass__', '__iter__', '__le__', '__len__', '__lt__', '__mul__', '__ne__', '__new__', '__reduce__', '__reduce_ex__', '__repr__', '__rmul__', '__setattr__', '__sizeof__', '__str__', '__subclasshook__', 'count', 'index']\n"
     ]
    }
   ],
   "source": [
    "\n",
    "print(dir(tuple))"
   ]
  },
  {
   "cell_type": "code",
   "execution_count": 27,
   "metadata": {},
   "outputs": [
    {
     "data": {
      "text/plain": [
       "(1, 2, 4, 4, 4, 8, 4, 6, 1)"
      ]
     },
     "execution_count": 27,
     "metadata": {},
     "output_type": "execute_result"
    }
   ],
   "source": [
    "#Conversion of list to tuple\n",
    "t"
   ]
  },
  {
   "cell_type": "code",
   "execution_count": 28,
   "metadata": {},
   "outputs": [
    {
     "data": {
      "text/plain": [
       "[1, 2, 4, 4, 4, 8, 4, 6, 1]"
      ]
     },
     "execution_count": 28,
     "metadata": {},
     "output_type": "execute_result"
    }
   ],
   "source": [
    "t1=list(t)\n",
    "t1"
   ]
  },
  {
   "cell_type": "code",
   "execution_count": 30,
   "metadata": {},
   "outputs": [
    {
     "data": {
      "text/plain": [
       "[1, 2, 4, 4, 4, 8, 4, 6, 1, 9, 9]"
      ]
     },
     "execution_count": 30,
     "metadata": {},
     "output_type": "execute_result"
    }
   ],
   "source": [
    "t1.append(9)\n",
    "t1"
   ]
  },
  {
   "cell_type": "code",
   "execution_count": 33,
   "metadata": {},
   "outputs": [
    {
     "data": {
      "text/plain": [
       "[1, 2, 4, 4, 4, 8, 4, 6, 1, 9, 9, 10, 10, 11]"
      ]
     },
     "execution_count": 33,
     "metadata": {},
     "output_type": "execute_result"
    }
   ],
   "source": [
    "t1.append(11)\n",
    "t1"
   ]
  },
  {
   "cell_type": "code",
   "execution_count": 37,
   "metadata": {},
   "outputs": [
    {
     "name": "stdout",
     "output_type": "stream",
     "text": [
      "[1, 2, 4, 4, 4, 8, 4, 6, 1, 9, 9, 10, 10, 11, 1222222222, 1222222222, 1222222222, 1222222222]\n"
     ]
    }
   ],
   "source": [
    "t1.append(1222222222)\n",
    "print(t1)"
   ]
  },
  {
   "cell_type": "code",
   "execution_count": 39,
   "metadata": {},
   "outputs": [
    {
     "name": "stdout",
     "output_type": "stream",
     "text": [
      "(1, 2, 4, 4, 4, 8, 4, 6, 1, 9, 9, 10, 10, 11, 1222222222, 1222222222, 1222222222, 1222222222)\n"
     ]
    }
   ],
   "source": [
    "#Converaion of list to tuple\n",
    "listData=tuple(t1)\n",
    "print(listData)"
   ]
  },
  {
   "cell_type": "markdown",
   "metadata": {},
   "source": [
    "# Sets \n",
    "- Reprasented as like {}\n",
    "- unique data set\n",
    "- mutable\n",
    "- set{}\n"
   ]
  },
  {
   "cell_type": "code",
   "execution_count": 54,
   "metadata": {},
   "outputs": [
    {
     "data": {
      "text/plain": [
       "{1, 2, 4, 5, 8}"
      ]
     },
     "execution_count": 54,
     "metadata": {},
     "output_type": "execute_result"
    }
   ],
   "source": [
    "s={1,2,4,1,2,5,8}\n",
    "s"
   ]
  },
  {
   "cell_type": "code",
   "execution_count": 41,
   "metadata": {},
   "outputs": [
    {
     "ename": "AttributeError",
     "evalue": "'set' object has no attribute 'append'",
     "output_type": "error",
     "traceback": [
      "\u001b[1;31m---------------------------------------------------------------------------\u001b[0m",
      "\u001b[1;31mAttributeError\u001b[0m                            Traceback (most recent call last)",
      "\u001b[1;32m<ipython-input-41-ecc1f3b1b08d>\u001b[0m in \u001b[0;36m<module>\u001b[1;34m\u001b[0m\n\u001b[1;32m----> 1\u001b[1;33m \u001b[0ms\u001b[0m\u001b[1;33m.\u001b[0m\u001b[0mappend\u001b[0m\u001b[1;33m(\u001b[0m\u001b[1;36m9\u001b[0m\u001b[1;33m)\u001b[0m\u001b[1;33m\u001b[0m\u001b[1;33m\u001b[0m\u001b[0m\n\u001b[0m\u001b[0;32m      2\u001b[0m \u001b[0ms\u001b[0m\u001b[1;33m\u001b[0m\u001b[1;33m\u001b[0m\u001b[0m\n",
      "\u001b[1;31mAttributeError\u001b[0m: 'set' object has no attribute 'append'"
     ]
    }
   ],
   "source": [
    "s.append(9)\n",
    "s"
   ]
  },
  {
   "cell_type": "code",
   "execution_count": 43,
   "metadata": {},
   "outputs": [
    {
     "data": {
      "text/plain": [
       "['__and__',\n",
       " '__class__',\n",
       " '__contains__',\n",
       " '__delattr__',\n",
       " '__dir__',\n",
       " '__doc__',\n",
       " '__eq__',\n",
       " '__format__',\n",
       " '__ge__',\n",
       " '__getattribute__',\n",
       " '__gt__',\n",
       " '__hash__',\n",
       " '__iand__',\n",
       " '__init__',\n",
       " '__init_subclass__',\n",
       " '__ior__',\n",
       " '__isub__',\n",
       " '__iter__',\n",
       " '__ixor__',\n",
       " '__le__',\n",
       " '__len__',\n",
       " '__lt__',\n",
       " '__ne__',\n",
       " '__new__',\n",
       " '__or__',\n",
       " '__rand__',\n",
       " '__reduce__',\n",
       " '__reduce_ex__',\n",
       " '__repr__',\n",
       " '__ror__',\n",
       " '__rsub__',\n",
       " '__rxor__',\n",
       " '__setattr__',\n",
       " '__sizeof__',\n",
       " '__str__',\n",
       " '__sub__',\n",
       " '__subclasshook__',\n",
       " '__xor__',\n",
       " 'add',\n",
       " 'clear',\n",
       " 'copy',\n",
       " 'difference',\n",
       " 'difference_update',\n",
       " 'discard',\n",
       " 'intersection',\n",
       " 'intersection_update',\n",
       " 'isdisjoint',\n",
       " 'issubset',\n",
       " 'issuperset',\n",
       " 'pop',\n",
       " 'remove',\n",
       " 'symmetric_difference',\n",
       " 'symmetric_difference_update',\n",
       " 'union',\n",
       " 'update']"
      ]
     },
     "execution_count": 43,
     "metadata": {},
     "output_type": "execute_result"
    }
   ],
   "source": [
    "dir(set)"
   ]
  },
  {
   "cell_type": "code",
   "execution_count": 53,
   "metadata": {},
   "outputs": [
    {
     "data": {
      "text/plain": [
       "{9}"
      ]
     },
     "execution_count": 53,
     "metadata": {},
     "output_type": "execute_result"
    }
   ],
   "source": [
    "s.add(9)\n",
    "s"
   ]
  },
  {
   "cell_type": "code",
   "execution_count": 55,
   "metadata": {},
   "outputs": [
    {
     "data": {
      "text/plain": [
       "{1, 2, 4, 5, 7, 8, 9}"
      ]
     },
     "execution_count": 55,
     "metadata": {},
     "output_type": "execute_result"
    }
   ],
   "source": [
    "s1={7,8,9,4,7}\n",
    "s.update(s1)\n",
    "s"
   ]
  },
  {
   "cell_type": "code",
   "execution_count": 46,
   "metadata": {},
   "outputs": [
    {
     "data": {
      "text/plain": [
       "1"
      ]
     },
     "execution_count": 46,
     "metadata": {},
     "output_type": "execute_result"
    }
   ],
   "source": [
    "s.pop()"
   ]
  },
  {
   "cell_type": "code",
   "execution_count": 47,
   "metadata": {},
   "outputs": [
    {
     "data": {
      "text/plain": [
       "{2, 4, 5, 7, 8, 9}"
      ]
     },
     "execution_count": 47,
     "metadata": {},
     "output_type": "execute_result"
    }
   ],
   "source": [
    "s"
   ]
  },
  {
   "cell_type": "code",
   "execution_count": 48,
   "metadata": {},
   "outputs": [
    {
     "data": {
      "text/plain": [
       "2"
      ]
     },
     "execution_count": 48,
     "metadata": {},
     "output_type": "execute_result"
    }
   ],
   "source": [
    "s.pop()"
   ]
  },
  {
   "cell_type": "code",
   "execution_count": 49,
   "metadata": {},
   "outputs": [
    {
     "data": {
      "text/plain": [
       "{4, 5, 7, 8, 9}"
      ]
     },
     "execution_count": 49,
     "metadata": {},
     "output_type": "execute_result"
    }
   ],
   "source": [
    "s"
   ]
  },
  {
   "cell_type": "code",
   "execution_count": 50,
   "metadata": {},
   "outputs": [],
   "source": [
    "s.remove(8)"
   ]
  },
  {
   "cell_type": "code",
   "execution_count": 51,
   "metadata": {},
   "outputs": [
    {
     "data": {
      "text/plain": [
       "{4, 5, 7, 9}"
      ]
     },
     "execution_count": 51,
     "metadata": {},
     "output_type": "execute_result"
    }
   ],
   "source": [
    "s"
   ]
  },
  {
   "cell_type": "code",
   "execution_count": 52,
   "metadata": {},
   "outputs": [
    {
     "data": {
      "text/plain": [
       "set()"
      ]
     },
     "execution_count": 52,
     "metadata": {},
     "output_type": "execute_result"
    }
   ],
   "source": [
    "s.clear()\n",
    "s"
   ]
  },
  {
   "cell_type": "code",
   "execution_count": 56,
   "metadata": {},
   "outputs": [
    {
     "data": {
      "text/plain": [
       "{1, 2, 4, 5, 7, 8, 9}"
      ]
     },
     "execution_count": 56,
     "metadata": {},
     "output_type": "execute_result"
    }
   ],
   "source": [
    "s"
   ]
  },
  {
   "cell_type": "code",
   "execution_count": 57,
   "metadata": {},
   "outputs": [
    {
     "data": {
      "text/plain": [
       "{4, 7, 8, 9}"
      ]
     },
     "execution_count": 57,
     "metadata": {},
     "output_type": "execute_result"
    }
   ],
   "source": [
    "s1"
   ]
  },
  {
   "cell_type": "code",
   "execution_count": 59,
   "metadata": {},
   "outputs": [
    {
     "data": {
      "text/plain": [
       "{1, 2, 5}"
      ]
     },
     "execution_count": 59,
     "metadata": {},
     "output_type": "execute_result"
    }
   ],
   "source": [
    "s3=s.difference(s1)\n",
    "s3"
   ]
  },
  {
   "cell_type": "code",
   "execution_count": 60,
   "metadata": {},
   "outputs": [
    {
     "data": {
      "text/plain": [
       "set()"
      ]
     },
     "execution_count": 60,
     "metadata": {},
     "output_type": "execute_result"
    }
   ],
   "source": [
    "s4=s1.difference(s)\n",
    "s4"
   ]
  },
  {
   "cell_type": "code",
   "execution_count": 61,
   "metadata": {},
   "outputs": [
    {
     "data": {
      "text/plain": [
       "{1, 2, 5}"
      ]
     },
     "execution_count": 61,
     "metadata": {},
     "output_type": "execute_result"
    }
   ],
   "source": [
    "s3"
   ]
  },
  {
   "cell_type": "code",
   "execution_count": 62,
   "metadata": {},
   "outputs": [
    {
     "data": {
      "text/plain": [
       "{1, 5}"
      ]
     },
     "execution_count": 62,
     "metadata": {},
     "output_type": "execute_result"
    }
   ],
   "source": [
    "s3.discard(2)\n",
    "s3"
   ]
  },
  {
   "cell_type": "code",
   "execution_count": 64,
   "metadata": {},
   "outputs": [
    {
     "data": {
      "text/plain": [
       "{1, 2, 4, 5, 7, 8, 9}"
      ]
     },
     "execution_count": 64,
     "metadata": {},
     "output_type": "execute_result"
    }
   ],
   "source": [
    "s"
   ]
  },
  {
   "cell_type": "code",
   "execution_count": 65,
   "metadata": {},
   "outputs": [
    {
     "data": {
      "text/plain": [
       "{4, 7, 8, 9}"
      ]
     },
     "execution_count": 65,
     "metadata": {},
     "output_type": "execute_result"
    }
   ],
   "source": [
    "s1"
   ]
  },
  {
   "cell_type": "code",
   "execution_count": 69,
   "metadata": {},
   "outputs": [
    {
     "data": {
      "text/plain": [
       "{1, 2, 4, 5, 7, 8, 9}"
      ]
     },
     "execution_count": 69,
     "metadata": {},
     "output_type": "execute_result"
    }
   ],
   "source": [
    "t=s.union(s1)\n",
    "t"
   ]
  },
  {
   "cell_type": "code",
   "execution_count": 70,
   "metadata": {},
   "outputs": [
    {
     "name": "stdout",
     "output_type": "stream",
     "text": [
      "['__add__', '__class__', '__contains__', '__delattr__', '__dir__', '__doc__', '__eq__', '__format__', '__ge__', '__getattribute__', '__getitem__', '__getnewargs__', '__gt__', '__hash__', '__init__', '__init_subclass__', '__iter__', '__le__', '__len__', '__lt__', '__mod__', '__mul__', '__ne__', '__new__', '__reduce__', '__reduce_ex__', '__repr__', '__rmod__', '__rmul__', '__setattr__', '__sizeof__', '__str__', '__subclasshook__', 'capitalize', 'casefold', 'center', 'count', 'encode', 'endswith', 'expandtabs', 'find', 'format', 'format_map', 'index', 'isalnum', 'isalpha', 'isascii', 'isdecimal', 'isdigit', 'isidentifier', 'islower', 'isnumeric', 'isprintable', 'isspace', 'istitle', 'isupper', 'join', 'ljust', 'lower', 'lstrip', 'maketrans', 'partition', 'replace', 'rfind', 'rindex', 'rjust', 'rpartition', 'rsplit', 'rstrip', 'split', 'splitlines', 'startswith', 'strip', 'swapcase', 'title', 'translate', 'upper', 'zfill']\n"
     ]
    }
   ],
   "source": [
    "r=s.intersection(s1)\n",
    "r\n",
    "print(dir(str))"
   ]
  },
  {
   "cell_type": "code",
   "execution_count": 77,
   "metadata": {},
   "outputs": [
    {
     "name": "stdout",
     "output_type": "stream",
     "text": [
      "Enter Your Data....ECE4EEE2CIV1CSE4\n",
      "['ECE', 'EEE', 'CIV', 'CSE']\n",
      "['4', '2', '1', '4']\n"
     ]
    }
   ],
   "source": [
    "# input:ECE4EEE2CIV1CSE4\n",
    "# output:\n",
    "#         ECE ECE ECE ECE\n",
    "#         EEE EEE \n",
    "#         CIV \n",
    "#         CSE CSE CSE CSE\n",
    "input_data=input(\"Enter Your Data....\")\n",
    "Branch_data=[]\n",
    "int_data=[]\n",
    "d_data=\"\" # Collecting Each Charater\n",
    "# For Stroing Branch Data and Integer Data\n",
    "for ch in input_data:\n",
    "    if(ch.isalpha()):\n",
    "        d_data=d_data+ch\n",
    "    else:\n",
    "        Branch_data.append(d_data)# Branch Data\n",
    "        d_data=\"\"\n",
    "        int_data.append(ch)# Integer Data\n",
    "print(Branch_data)# For priting stored Branch Data\n",
    "print(int_data)# For Printing Integers Data\n",
    "        "
   ]
  },
  {
   "cell_type": "code",
   "execution_count": 79,
   "metadata": {},
   "outputs": [
    {
     "name": "stdout",
     "output_type": "stream",
     "text": [
      "ECEECEECEECE\n",
      "EEEEEE\n",
      "CIV\n",
      "CSECSECSECSE\n"
     ]
    }
   ],
   "source": [
    "# Required output\n",
    "for i in range(0,len(Branch_data)):\n",
    "    print(Branch_data[i]*int(int_data[i]))\n"
   ]
  },
  {
   "cell_type": "code",
   "execution_count": 113,
   "metadata": {},
   "outputs": [],
   "source": [
    "# Check given number is prime or not by using funtions\n",
    "prime_list=[]\n",
    "def isprime(number):\n",
    "    count=0\n",
    "    for i in range(1,number+1):\n",
    "        if(number%i==0):\n",
    "            count=count+1 # count+=1\n",
    "    if(count==2):\n",
    "        prime_list.append(number)\n",
    "#         print( number,end=\" \")\n",
    "# number=int(input(\"Enter Your number...\"))\n",
    "# # Fution with arguments and with out return value\n",
    "# isprime(number)"
   ]
  },
  {
   "cell_type": "code",
   "execution_count": 108,
   "metadata": {},
   "outputs": [
    {
     "name": "stdout",
     "output_type": "stream",
     "text": [
      "2 3 5 7 11 13 17 19 23 29 31 37 41 43 47 53 59 61 67 71 73 79 83 89 97 "
     ]
    }
   ],
   "source": [
    "\n",
    "# input:10 30\n",
    "# output:11 13 17 19 23 29 \n",
    "def checkprimeb_wranges(n1,n2):\n",
    "    for i in range(n1,n2+1):\n",
    "        isprime(i)\n",
    "checkprimeb_wranges(1,100)"
   ]
  },
  {
   "cell_type": "code",
   "execution_count": 106,
   "metadata": {},
   "outputs": [
    {
     "name": "stdout",
     "output_type": "stream",
     "text": [
      "28 "
     ]
    }
   ],
   "source": [
    "# #perfect Numbers\n",
    "# input:6\n",
    "# output:it is perfect number\n",
    "# 6-->1+2+3 -->6\n",
    "def isperfect(number):\n",
    "    su=0\n",
    "    for i in range(1,number):\n",
    "        if(number%i==0):\n",
    "            su+=i#su=su+i\n",
    "    if(number==su):\n",
    "        print(number,end=\" \")\n",
    "isperfect(28)"
   ]
  },
  {
   "cell_type": "code",
   "execution_count": 107,
   "metadata": {},
   "outputs": [
    {
     "name": "stdout",
     "output_type": "stream",
     "text": [
      "6 28 "
     ]
    }
   ],
   "source": [
    "def checkperfectb_wranges(n1,n2):\n",
    "    for i in range(n1,n2):\n",
    "        isperfect(i)\n",
    "checkperfectb_wranges(1,30)        \n",
    "        "
   ]
  },
  {
   "cell_type": "code",
   "execution_count": null,
   "metadata": {},
   "outputs": [],
   "source": [
    "2 3 5 7 11 13 17 19 23 29 31 37 41 43 47 53 59 61 67 71 73 79 83 89 97 \n",
    "2-->even\n",
    "3-->odd\n",
    "5-->odd\n",
    "7\n",
    "11-->1+1-->2-->even\n",
    "13-->1+3-->4-->even\n",
    "17-->1+7-->8-->even\n",
    "19-->1+9-->10-->even\n",
    "23-->2+3-->5-->odd\n",
    "29-->2+9-->11-->odd"
   ]
  },
  {
   "cell_type": "code",
   "execution_count": 118,
   "metadata": {},
   "outputs": [],
   "source": [
    "# 5478-->5+4+7+8-->24-->even\n",
    "prime_list_digit_sum=[]\n",
    "def digitsum(num):#5478\n",
    "    su=0\n",
    "    while(num!=0):#5478!=0(T)\n",
    "        su=su+num%10\n",
    "        num=num//10\n",
    "    prime_list_digit_sum.append(su)"
   ]
  },
  {
   "cell_type": "code",
   "execution_count": 112,
   "metadata": {},
   "outputs": [
    {
     "name": "stdout",
     "output_type": "stream",
     "text": [
      "29 "
     ]
    }
   ],
   "source": [
    "isprime(29)"
   ]
  },
  {
   "cell_type": "code",
   "execution_count": 114,
   "metadata": {},
   "outputs": [],
   "source": [
    "checkprimeb_wranges(1,100)"
   ]
  },
  {
   "cell_type": "code",
   "execution_count": 116,
   "metadata": {},
   "outputs": [
    {
     "name": "stdout",
     "output_type": "stream",
     "text": [
      "[2, 3, 5, 7, 11, 13, 17, 19, 23, 29, 31, 37, 41, 43, 47, 53, 59, 61, 67, 71, 73, 79, 83, 89, 97]\n"
     ]
    }
   ],
   "source": [
    "print(prime_list)"
   ]
  },
  {
   "cell_type": "code",
   "execution_count": 119,
   "metadata": {},
   "outputs": [],
   "source": [
    "\n",
    "for i in range(0,len(prime_list)):\n",
    "    digitsum(prime_list[i])"
   ]
  },
  {
   "cell_type": "code",
   "execution_count": 121,
   "metadata": {},
   "outputs": [
    {
     "name": "stdout",
     "output_type": "stream",
     "text": [
      "[2, 3, 5, 7, 2, 4, 8, 10, 5, 11, 4, 10, 5, 7, 11, 8, 14, 7, 13, 8, 10, 16, 11, 17, 16]\n"
     ]
    }
   ],
   "source": [
    "print(prime_list_digit_sum)"
   ]
  },
  {
   "cell_type": "code",
   "execution_count": 122,
   "metadata": {},
   "outputs": [],
   "source": [
    "Even_list=[]\n",
    "Odd_list=[]\n",
    "for i in range(0,len(prime_list_digit_sum)):\n",
    "    if(prime_list_digit_sum[i]%2==0):\n",
    "        Even_list.append(prime_list_digit_sum[i])\n",
    "    else:\n",
    "        Odd_list.append(prime_list_digit_sum[i])"
   ]
  },
  {
   "cell_type": "code",
   "execution_count": 123,
   "metadata": {},
   "outputs": [
    {
     "name": "stdout",
     "output_type": "stream",
     "text": [
      "[2, 2, 4, 8, 10, 4, 10, 8, 14, 8, 10, 16, 16]\n",
      "[3, 5, 7, 5, 11, 5, 7, 11, 7, 13, 11, 17]\n"
     ]
    }
   ],
   "source": [
    "print(Even_list)\n",
    "print(Odd_list)"
   ]
  },
  {
   "cell_type": "code",
   "execution_count": 125,
   "metadata": {},
   "outputs": [
    {
     "name": "stdout",
     "output_type": "stream",
     "text": [
      "[2, 2, 4, 8, 10, 4, 10, 8, 14, 8, 10, 16, 16]\n",
      "[3, 5, 7, 5, 11, 5, 7, 11, 7, 13, 11, 17]\n"
     ]
    }
   ],
   "source": [
    "# for collecting Prime numbers\n",
    "prime_list=[]\n",
    "def isprime(number):\n",
    "    count=0\n",
    "    for i in range(1,number+1):\n",
    "        if(number%i==0):\n",
    "            count=count+1 # count+=1\n",
    "    if(count==2):\n",
    "        prime_list.append(number)\n",
    "def checkprimeb_wranges(n1,n2):\n",
    "    for i in range(n1,n2+1):\n",
    "        isprime(i)\n",
    "checkprimeb_wranges(1,100)\n",
    "# to find individual digit sum from prime list\n",
    "prime_list_digit_sum=[]\n",
    "def digitsum(num):#5478\n",
    "    su=0\n",
    "    while(num!=0):#5478!=0(T)\n",
    "        su=su+num%10\n",
    "        num=num//10\n",
    "    prime_list_digit_sum.append(su)\n",
    "# calculating Digit sum\n",
    "for i in range(0,len(prime_list)):\n",
    "    digitsum(prime_list[i])\n",
    "# to separate Even And Odd Values from Digit list    \n",
    "Even_list=[]\n",
    "Odd_list=[]\n",
    "for i in range(0,len(prime_list_digit_sum)):\n",
    "    if(prime_list_digit_sum[i]%2==0):\n",
    "        Even_list.append(prime_list_digit_sum[i])\n",
    "    else:\n",
    "        Odd_list.append(prime_list_digit_sum[i])\n",
    "print(Even_list)\n",
    "print(Odd_list)"
   ]
  },
  {
   "cell_type": "markdown",
   "metadata": {},
   "source": [
    "# Dictionaries\n",
    "- set of data\n",
    "    - this  is in the form of \"key\" and \"value\" pairs separated by :\n",
    "- no index \n",
    "- short form of  Dictionary is \"dict\"(keyword)\n",
    "- Generalreprasenation of dict like as {}"
   ]
  },
  {
   "cell_type": "code",
   "execution_count": 128,
   "metadata": {},
   "outputs": [
    {
     "name": "stdout",
     "output_type": "stream",
     "text": [
      "{'key1': 453, 'key2': 987, 'key3': 1234}\n",
      "<class 'dict'>\n"
     ]
    }
   ],
   "source": [
    "d={\"key1\":453,\"key2\":987,\"key3\":1234}\n",
    "print(d)\n",
    "print(type(d))"
   ]
  },
  {
   "cell_type": "code",
   "execution_count": 129,
   "metadata": {},
   "outputs": [
    {
     "name": "stdout",
     "output_type": "stream",
     "text": [
      "{1, 2, 3, 4}\n",
      "<class 'set'>\n"
     ]
    }
   ],
   "source": [
    "s={1,2,3,4}\n",
    "print(s)\n",
    "print(type(s))"
   ]
  },
  {
   "cell_type": "code",
   "execution_count": 130,
   "metadata": {},
   "outputs": [
    {
     "name": "stdout",
     "output_type": "stream",
     "text": [
      "['__class__', '__contains__', '__delattr__', '__delitem__', '__dir__', '__doc__', '__eq__', '__format__', '__ge__', '__getattribute__', '__getitem__', '__gt__', '__hash__', '__init__', '__init_subclass__', '__iter__', '__le__', '__len__', '__lt__', '__ne__', '__new__', '__reduce__', '__reduce_ex__', '__repr__', '__setattr__', '__setitem__', '__sizeof__', '__str__', '__subclasshook__', 'clear', 'copy', 'fromkeys', 'get', 'items', 'keys', 'pop', 'popitem', 'setdefault', 'update', 'values']\n"
     ]
    }
   ],
   "source": [
    "print(dir(dict))"
   ]
  },
  {
   "cell_type": "code",
   "execution_count": 151,
   "metadata": {},
   "outputs": [
    {
     "data": {
      "text/plain": [
       "{'Cbit': 2008, 'Apssdc': 2014, 'Python': 1991}"
      ]
     },
     "execution_count": 151,
     "metadata": {},
     "output_type": "execute_result"
    }
   ],
   "source": [
    "d1={\"Cbit\":2008,\"Apssdc\":2014,\"Python\":1991}\n",
    "d1"
   ]
  },
  {
   "cell_type": "code",
   "execution_count": 132,
   "metadata": {},
   "outputs": [
    {
     "data": {
      "text/plain": [
       "dict_keys(['Cbit', 'Apssdc', 'Python'])"
      ]
     },
     "execution_count": 132,
     "metadata": {},
     "output_type": "execute_result"
    }
   ],
   "source": [
    "#For get all keys from the dict\n",
    "d1.keys()"
   ]
  },
  {
   "cell_type": "code",
   "execution_count": 133,
   "metadata": {},
   "outputs": [
    {
     "data": {
      "text/plain": [
       "dict_values([2008, 2014, 1991])"
      ]
     },
     "execution_count": 133,
     "metadata": {},
     "output_type": "execute_result"
    }
   ],
   "source": [
    "#For get all values from the dict\n",
    "d1.values()"
   ]
  },
  {
   "cell_type": "code",
   "execution_count": 134,
   "metadata": {},
   "outputs": [
    {
     "data": {
      "text/plain": [
       "2014"
      ]
     },
     "execution_count": 134,
     "metadata": {},
     "output_type": "execute_result"
    }
   ],
   "source": [
    "d1.get(\"Apssdc\")"
   ]
  },
  {
   "cell_type": "code",
   "execution_count": 135,
   "metadata": {},
   "outputs": [
    {
     "data": {
      "text/plain": [
       "{'A': None, 'p': None, 's': None, 'd': None, 'c': None}"
      ]
     },
     "execution_count": 135,
     "metadata": {},
     "output_type": "execute_result"
    }
   ],
   "source": [
    "d1.fromkeys(\"Apssdc\")"
   ]
  },
  {
   "cell_type": "code",
   "execution_count": 138,
   "metadata": {},
   "outputs": [],
   "source": [
    "d2={\"ap\":1000}\n"
   ]
  },
  {
   "cell_type": "code",
   "execution_count": 152,
   "metadata": {},
   "outputs": [
    {
     "data": {
      "text/plain": [
       "{'Cbit': 2008, 'Apssdc': 2014, 'Python': 1991, 'ap': 1000}"
      ]
     },
     "execution_count": 152,
     "metadata": {},
     "output_type": "execute_result"
    }
   ],
   "source": [
    "d1.update(d2)\n",
    "d1"
   ]
  },
  {
   "cell_type": "code",
   "execution_count": 141,
   "metadata": {},
   "outputs": [
    {
     "data": {
      "text/plain": [
       "('ap', 1000)"
      ]
     },
     "execution_count": 141,
     "metadata": {},
     "output_type": "execute_result"
    }
   ],
   "source": [
    "d1.popitem()"
   ]
  },
  {
   "cell_type": "code",
   "execution_count": 144,
   "metadata": {},
   "outputs": [
    {
     "data": {
      "text/plain": [
       "2008"
      ]
     },
     "execution_count": 144,
     "metadata": {},
     "output_type": "execute_result"
    }
   ],
   "source": [
    "d1.pop(\"Cbit\")"
   ]
  },
  {
   "cell_type": "code",
   "execution_count": 145,
   "metadata": {},
   "outputs": [
    {
     "data": {
      "text/plain": [
       "{'Apssdc': 2014, 'Python': 1991}"
      ]
     },
     "execution_count": 145,
     "metadata": {},
     "output_type": "execute_result"
    }
   ],
   "source": [
    "d1"
   ]
  },
  {
   "cell_type": "code",
   "execution_count": 149,
   "metadata": {},
   "outputs": [
    {
     "data": {
      "text/plain": [
       "{'Apssdc': 2014, 'Python': 1989, 'python': 1989}"
      ]
     },
     "execution_count": 149,
     "metadata": {},
     "output_type": "execute_result"
    }
   ],
   "source": [
    "d1[\"python\"]=1989\n",
    "d1"
   ]
  },
  {
   "cell_type": "code",
   "execution_count": 150,
   "metadata": {},
   "outputs": [
    {
     "data": {
      "text/plain": [
       "{'Apssdc': 2014, 'Python': 1989}"
      ]
     },
     "execution_count": 150,
     "metadata": {},
     "output_type": "execute_result"
    }
   ],
   "source": [
    "d1.popitem()\n",
    "d1"
   ]
  },
  {
   "cell_type": "code",
   "execution_count": 153,
   "metadata": {},
   "outputs": [
    {
     "data": {
      "text/plain": [
       "{'Cbit': 2008, 'Apssdc': 2014, 'Python': 1991, 'ap': 1000}"
      ]
     },
     "execution_count": 153,
     "metadata": {},
     "output_type": "execute_result"
    }
   ],
   "source": [
    "d1"
   ]
  },
  {
   "cell_type": "code",
   "execution_count": 160,
   "metadata": {},
   "outputs": [
    {
     "name": "stdout",
     "output_type": "stream",
     "text": [
      "['Cbit', 'Apssdc', 'Python', 'ap']\n",
      "[2008, 2014, 1991, 1000]\n",
      "['Cbit', 'Apssdc', 'Python', 'Salary']\n",
      "[2008, 2014, 1991, 30000]\n"
     ]
    },
    {
     "data": {
      "text/plain": [
       "{'Cbit': 2008, 'Apssdc': 2014, 'Python': 1991, 'ap': 1000}"
      ]
     },
     "execution_count": 160,
     "metadata": {},
     "output_type": "execute_result"
    }
   ],
   "source": [
    "#conversions\n",
    "key_list=list(d1.keys())\n",
    "print(key_list)\n",
    "values_list=list(d1.values())\n",
    "print(values_list)\n",
    "key_list[-1]=\"Salary\"\n",
    "print(key_list)\n",
    "values_list[-1]=30000\n",
    "print(values_list)\n",
    "d1"
   ]
  },
  {
   "cell_type": "code",
   "execution_count": 161,
   "metadata": {},
   "outputs": [
    {
     "data": {
      "text/plain": [
       "dict_items([('Cbit', 2008), ('Apssdc', 2014), ('Python', 1991), ('ap', 1000)])"
      ]
     },
     "execution_count": 161,
     "metadata": {},
     "output_type": "execute_result"
    }
   ],
   "source": [
    "d1.items()"
   ]
  },
  {
   "cell_type": "code",
   "execution_count": 165,
   "metadata": {},
   "outputs": [
    {
     "name": "stdout",
     "output_type": "stream",
     "text": [
      "{'Cbit': 2008, 'Apssdc': 2014, 'Python': 1991, 'ap': 1000}\n",
      "Enter Key Value to modify value:ap\n",
      "Enter Value:30000\n",
      "{'Cbit': 2008, 'Apssdc': 2014, 'Python': 1991, 'ap': 30000}\n"
     ]
    }
   ],
   "source": [
    "# CBIT--->2008\n",
    "# Apssdc--->2014\n",
    "# Python--->1991\n",
    "# for key,value in d1.items():\n",
    "#     print(key,\"--->\",value)\n",
    "# for key in d1.keys():\n",
    "#     print(key)\n",
    "# for value in d1.values():\n",
    "#     print(value)\n",
    "print(d1)\n",
    "User_key=input(\"Enter Key Value to modify value:\")\n",
    "User_value=int(input(\"Enter Value:\"))\n",
    "for key in d1.keys():\n",
    "    if(key==User_key):\n",
    "        d1[key]=User_value\n",
    "print(d1)"
   ]
  },
  {
   "cell_type": "code",
   "execution_count": 195,
   "metadata": {},
   "outputs": [
    {
     "name": "stdout",
     "output_type": "stream",
     "text": [
      "[2, 1, 4, 6, 8, 1, 4, 6, 9, 6, 2, 3, 4, 1, 1, 1, 5, 11, 7, 2, 10]\n",
      "[2, 1, 4, 6, 8, 9, 3, 5, 11, 7, 10]\n",
      "[3, 5, 3, 3, 1, 1, 1, 1, 1, 1, 1]\n",
      "2 ---> 3\n",
      "1 ---> 5\n",
      "4 ---> 3\n",
      "6 ---> 3\n",
      "8 ---> 1\n",
      "9 ---> 1\n",
      "3 ---> 1\n",
      "5 ---> 1\n",
      "11 ---> 1\n",
      "7 ---> 1\n",
      "10 ---> 1\n"
     ]
    }
   ],
   "source": [
    "l=[2,1,4,6,8,1,4,6,9,6,2,3,4,1,1,1,5,11,7,2,10]\n",
    "# uniqdata=set(l)\n",
    "# print(uniqdata)\n",
    "print(l)\n",
    "uniqdata=[]\n",
    "for i in l:\n",
    "    if( i not in uniqdata):\n",
    "        uniqdata.append(i)\n",
    "print(uniqdata)\n",
    "freq_list=[]\n",
    "for item in uniqdata:\n",
    "    freq_list.append(l.count(item))\n",
    "print(freq_list)\n",
    "freq_dict={}\n",
    "for i in range(0,len(uniqdata)):\n",
    "    freq_dict[uniqdata[i]]=freq_list[i]\n",
    "freq_dict\n",
    "for key,value in freq_dict.items():\n",
    "    print(key,\"--->\",value)"
   ]
  },
  {
   "cell_type": "code",
   "execution_count": 189,
   "metadata": {},
   "outputs": [
    {
     "name": "stdout",
     "output_type": "stream",
     "text": [
      "[1, 2, 3, 4, 5, 6, 7, 8, 9, 10, 11]\n",
      "11 5\n",
      "6\n",
      "[1, 2, 3, 4, 5]\n",
      "[11, 10, 9, 8, 7, 6]\n",
      "This is First required output: [1, 2, 3, 4, 5, 11, 10, 9, 8, 7, 6]\n",
      "This is Second Required output: [5, 4, 3, 2, 1, 6, 7, 8, 9, 10, 11]\n",
      "This is Third Required Output: [5, 4, 3, 2, 1, 11, 10, 9, 8, 7, 6]\n"
     ]
    }
   ],
   "source": [
    "sorted_data=sorted(uniqdata)\n",
    "print(sorted_data)\n",
    "middle=len(sorted_data)//2\n",
    "print(len(sorted_data),middle)\n",
    "print(sorted_data[middle])\n",
    "l_l=sorted_data[:middle]\n",
    "print(l_l)\n",
    "r_l=sorted(sorted_data[middle:],reverse=True)\n",
    "print(r_l)\n",
    "first_orderdata=l_l+r_l\n",
    "print(\"This is First required output:\",first_orderdata)\n",
    "l_l=sorted(sorted_data[:middle],reverse=True)\n",
    "r_l=sorted_data[middle:]\n",
    "print(\"This is Second Required output:\",l_l+r_l)\n",
    "l_l=sorted(sorted_data[:middle],reverse=True)\n",
    "r_l=sorted(sorted_data[middle:],reverse=True)\n",
    "print(\"This is Third Required Output:\",l_l+r_l)"
   ]
  },
  {
   "cell_type": "markdown",
   "metadata": {},
   "source": [
    "Task -1\n",
    "l=[3,7,1,5,1,5,1,6,8,8,9,2]\n",
    "l2=[3,7,1,5,6,8,9,2]\n",
    "l3=[1,2,3,5,6,7,8,9]\n",
    "l4=[1,2,3,5,9,8,7,6]\n",
    "l5=[5,3,2,1,6,7,8,9]\n",
    "l6=[5,3,2,1,9,8,7,6]\n"
   ]
  },
  {
   "cell_type": "code",
   "execution_count": 196,
   "metadata": {},
   "outputs": [],
   "source": [
    "#Funtion to create a contacts app\n",
    "contacts={}"
   ]
  },
  {
   "cell_type": "code",
   "execution_count": 197,
   "metadata": {},
   "outputs": [
    {
     "data": {
      "text/plain": [
       "{}"
      ]
     },
     "execution_count": 197,
     "metadata": {},
     "output_type": "execute_result"
    }
   ],
   "source": [
    "contacts"
   ]
  },
  {
   "cell_type": "code",
   "execution_count": 211,
   "metadata": {},
   "outputs": [
    {
     "name": "stdout",
     "output_type": "stream",
     "text": [
      "ganesh  Added to dict..\n"
     ]
    }
   ],
   "source": [
    "#funtion for adding contacts in the dict\n",
    "def addContacts(name,mobile_number):\n",
    "    \n",
    "    if name in contacts:\n",
    "        print(name,\" Already Exist\")\n",
    "    else:\n",
    "        contacts[name]=mobile_number\n",
    "        print(name,\" Added to dict..\")\n",
    "addContacts(\"ganesh\",98790)"
   ]
  },
  {
   "cell_type": "code",
   "execution_count": 212,
   "metadata": {},
   "outputs": [
    {
     "name": "stdout",
     "output_type": "stream",
     "text": [
      "{'muni': 12345, 'vijay': 0, 'sri hari ': 5673, 'ganesh': 98790}\n"
     ]
    }
   ],
   "source": [
    "print(contacts)"
   ]
  },
  {
   "cell_type": "code",
   "execution_count": 215,
   "metadata": {},
   "outputs": [
    {
     "name": "stdout",
     "output_type": "stream",
     "text": [
      "Enter the number for update3333333\n",
      "Updated Successfully..\n"
     ]
    }
   ],
   "source": [
    "#Update the Contacts from Dict..\n",
    "def updateContacts(name):\n",
    "    if name not in contacts:\n",
    "        print(\"Contacts not exist for update\")\n",
    "    else:\n",
    "        num=int(input(\"Enter the number for update:\"))\n",
    "        contacts[name]=num\n",
    "        print(\"Updated Successfully..\")\n",
    "updateContacts(\"muni\")\n",
    "    "
   ]
  },
  {
   "cell_type": "code",
   "execution_count": 216,
   "metadata": {},
   "outputs": [
    {
     "data": {
      "text/plain": [
       "{'muni': 3333333, 'vijay': 0, 'sri hari ': 5673, 'ganesh': 98790}"
      ]
     },
     "execution_count": 216,
     "metadata": {},
     "output_type": "execute_result"
    }
   ],
   "source": [
    "contacts"
   ]
  },
  {
   "cell_type": "code",
   "execution_count": null,
   "metadata": {},
   "outputs": [],
   "source": []
  }
 ],
 "metadata": {
  "kernelspec": {
   "display_name": "Python 3",
   "language": "python",
   "name": "python3"
  },
  "language_info": {
   "codemirror_mode": {
    "name": "ipython",
    "version": 3
   },
   "file_extension": ".py",
   "mimetype": "text/x-python",
   "name": "python",
   "nbconvert_exporter": "python",
   "pygments_lexer": "ipython3",
   "version": "3.7.3"
  }
 },
 "nbformat": 4,
 "nbformat_minor": 2
}
