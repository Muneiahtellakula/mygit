{
 "cells": [
  {
   "cell_type": "markdown",
   "metadata": {},
   "source": [
    "# Packages and Modules \n",
    "- Set of funtions called Modules\n",
    "- Multiple set of Modules called Packages\n",
    "    - In built \n",
    "    - User defiend \n",
    "- import the all packages with help of \"import\" keyword\n",
    "- it is just known as one python file  "
   ]
  },
  {
   "cell_type": "code",
   "execution_count": 2,
   "metadata": {},
   "outputs": [
    {
     "data": {
      "text/plain": [
       "4"
      ]
     },
     "execution_count": 2,
     "metadata": {},
     "output_type": "execute_result"
    }
   ],
   "source": [
    "#In built packages \n",
    "import math as m\n",
    "#from math import sqrt \n",
    "m.floor(4.5)\n"
   ]
  },
  {
   "cell_type": "code",
   "execution_count": 3,
   "metadata": {},
   "outputs": [
    {
     "data": {
      "text/plain": [
       "5"
      ]
     },
     "execution_count": 3,
     "metadata": {},
     "output_type": "execute_result"
    }
   ],
   "source": [
    "m.ceil(4.5)"
   ]
  },
  {
   "cell_type": "code",
   "execution_count": 4,
   "metadata": {},
   "outputs": [
    {
     "data": {
      "text/plain": [
       "['__doc__',\n",
       " '__loader__',\n",
       " '__name__',\n",
       " '__package__',\n",
       " '__spec__',\n",
       " 'acos',\n",
       " 'acosh',\n",
       " 'asin',\n",
       " 'asinh',\n",
       " 'atan',\n",
       " 'atan2',\n",
       " 'atanh',\n",
       " 'ceil',\n",
       " 'copysign',\n",
       " 'cos',\n",
       " 'cosh',\n",
       " 'degrees',\n",
       " 'e',\n",
       " 'erf',\n",
       " 'erfc',\n",
       " 'exp',\n",
       " 'expm1',\n",
       " 'fabs',\n",
       " 'factorial',\n",
       " 'floor',\n",
       " 'fmod',\n",
       " 'frexp',\n",
       " 'fsum',\n",
       " 'gamma',\n",
       " 'gcd',\n",
       " 'hypot',\n",
       " 'inf',\n",
       " 'isclose',\n",
       " 'isfinite',\n",
       " 'isinf',\n",
       " 'isnan',\n",
       " 'ldexp',\n",
       " 'lgamma',\n",
       " 'log',\n",
       " 'log10',\n",
       " 'log1p',\n",
       " 'log2',\n",
       " 'modf',\n",
       " 'nan',\n",
       " 'pi',\n",
       " 'pow',\n",
       " 'radians',\n",
       " 'remainder',\n",
       " 'sin',\n",
       " 'sinh',\n",
       " 'sqrt',\n",
       " 'tan',\n",
       " 'tanh',\n",
       " 'tau',\n",
       " 'trunc']"
      ]
     },
     "execution_count": 4,
     "metadata": {},
     "output_type": "execute_result"
    }
   ],
   "source": [
    "dir(m)"
   ]
  },
  {
   "cell_type": "code",
   "execution_count": 5,
   "metadata": {},
   "outputs": [
    {
     "data": {
      "text/plain": [
       "['BPF',\n",
       " 'LOG4',\n",
       " 'NV_MAGICCONST',\n",
       " 'RECIP_BPF',\n",
       " 'Random',\n",
       " 'SG_MAGICCONST',\n",
       " 'SystemRandom',\n",
       " 'TWOPI',\n",
       " '_BuiltinMethodType',\n",
       " '_MethodType',\n",
       " '_Sequence',\n",
       " '_Set',\n",
       " '__all__',\n",
       " '__builtins__',\n",
       " '__cached__',\n",
       " '__doc__',\n",
       " '__file__',\n",
       " '__loader__',\n",
       " '__name__',\n",
       " '__package__',\n",
       " '__spec__',\n",
       " '_acos',\n",
       " '_bisect',\n",
       " '_ceil',\n",
       " '_cos',\n",
       " '_e',\n",
       " '_exp',\n",
       " '_inst',\n",
       " '_itertools',\n",
       " '_log',\n",
       " '_os',\n",
       " '_pi',\n",
       " '_random',\n",
       " '_sha512',\n",
       " '_sin',\n",
       " '_sqrt',\n",
       " '_test',\n",
       " '_test_generator',\n",
       " '_urandom',\n",
       " '_warn',\n",
       " 'betavariate',\n",
       " 'choice',\n",
       " 'choices',\n",
       " 'expovariate',\n",
       " 'gammavariate',\n",
       " 'gauss',\n",
       " 'getrandbits',\n",
       " 'getstate',\n",
       " 'lognormvariate',\n",
       " 'normalvariate',\n",
       " 'paretovariate',\n",
       " 'randint',\n",
       " 'random',\n",
       " 'randrange',\n",
       " 'sample',\n",
       " 'seed',\n",
       " 'setstate',\n",
       " 'shuffle',\n",
       " 'triangular',\n",
       " 'uniform',\n",
       " 'vonmisesvariate',\n",
       " 'weibullvariate']"
      ]
     },
     "execution_count": 5,
     "metadata": {},
     "output_type": "execute_result"
    }
   ],
   "source": [
    "import random as r\n",
    "\n",
    "dir(r)\n"
   ]
  },
  {
   "cell_type": "code",
   "execution_count": 15,
   "metadata": {},
   "outputs": [
    {
     "name": "stdout",
     "output_type": "stream",
     "text": [
      "10 6 8 9 1 5 9 1 7 6 "
     ]
    }
   ],
   "source": [
    "def getRandomNUmbers(lb,ub):\n",
    "    for i in range(1,11):\n",
    "        print(r.randint(lb,ub),end=\" \")\n",
    "lb=1\n",
    "ub=10\n",
    "getRandomNUmbers(lb,ub)"
   ]
  },
  {
   "cell_type": "code",
   "execution_count": null,
   "metadata": {},
   "outputs": [],
   "source": [
    "#User defined  packages "
   ]
  },
  {
   "cell_type": "code",
   "execution_count": 19,
   "metadata": {},
   "outputs": [
    {
     "data": {
      "text/plain": [
       "True"
      ]
     },
     "execution_count": 19,
     "metadata": {},
     "output_type": "execute_result"
    }
   ],
   "source": [
    "def isPrimeNumber(n):\n",
    "    if n<2:\n",
    "        return False\n",
    "    for i in range(2,(n//2)+1):\n",
    "        if n%i==0:\n",
    "            return False\n",
    "    return True\n",
    "isPrimeNumber(23)"
   ]
  },
  {
   "cell_type": "code",
   "execution_count": 23,
   "metadata": {},
   "outputs": [
    {
     "name": "stdout",
     "output_type": "stream",
     "text": [
      "2 3 5 7 11 13 17 19 23 29 31 37 41 43 47 53 59 61 67 71 73 79 83 89 97 "
     ]
    }
   ],
   "source": [
    "import mypackage as m\n",
    "# m.isPrimeNumber(47)\n",
    "def generateAllPrimeNumbers(lb,ub):\n",
    "    for i in range(lb,ub+1):\n",
    "        if m.isPrimeNumber(i):\n",
    "            print(i,end=\" \")\n",
    "generateAllPrimeNumbers(1,100)\n",
    "            \n",
    "    "
   ]
  },
  {
   "cell_type": "code",
   "execution_count": 35,
   "metadata": {},
   "outputs": [
    {
     "data": {
      "text/plain": [
       "True"
      ]
     },
     "execution_count": 35,
     "metadata": {},
     "output_type": "execute_result"
    }
   ],
   "source": [
    "import mypackage \n",
    "mypackage.isPrimeNumber(13)"
   ]
  },
  {
   "cell_type": "markdown",
   "metadata": {},
   "source": [
    "## Regular Expressions\n",
    "* It is also one type of Programming language \n",
    "* It is also called pattern matching technic by using symbols \n",
    "* [] - character set ex.[a-zA-Z0-9]\n",
    "* ^  - starting letter \n",
    "* $  - ending letter \n",
    "* {} - range set \n",
    "* .  - zero char set \n",
    "* *  - can multiply\n",
    "* |  - OR \n",
    "* +  - Concatination\n",
    "* for doing regular expressions we need to import the \"re\"\n",
    "        \n"
   ]
  },
  {
   "cell_type": "code",
   "execution_count": 36,
   "metadata": {},
   "outputs": [
    {
     "name": "stdout",
     "output_type": "stream",
     "text": [
      "['A', 'ASCII', 'DEBUG', 'DOTALL', 'I', 'IGNORECASE', 'L', 'LOCALE', 'M', 'MULTILINE', 'Match', 'Pattern', 'RegexFlag', 'S', 'Scanner', 'T', 'TEMPLATE', 'U', 'UNICODE', 'VERBOSE', 'X', '_MAXCACHE', '__all__', '__builtins__', '__cached__', '__doc__', '__file__', '__loader__', '__name__', '__package__', '__spec__', '__version__', '_cache', '_compile', '_compile_repl', '_expand', '_locale', '_pickle', '_special_chars_map', '_subx', 'compile', 'copyreg', 'enum', 'error', 'escape', 'findall', 'finditer', 'fullmatch', 'functools', 'match', 'purge', 'search', 'split', 'sre_compile', 'sre_parse', 'sub', 'subn', 'template']\n"
     ]
    }
   ],
   "source": [
    "import re \n",
    "\n",
    "print(dir(re))"
   ]
  },
  {
   "cell_type": "code",
   "execution_count": 38,
   "metadata": {},
   "outputs": [
    {
     "data": {
      "text/plain": [
       "<re.Match object; span=(0, 1), match='c'>"
      ]
     },
     "execution_count": 38,
     "metadata": {},
     "output_type": "execute_result"
    }
   ],
   "source": [
    "#Match()\n",
    " #it is match the pattern/symbol\n",
    "re.match(\"c\",\"cbit\")"
   ]
  },
  {
   "cell_type": "code",
   "execution_count": 39,
   "metadata": {},
   "outputs": [],
   "source": [
    "re.match(\"i\",\"cbit\")#It only match the first char \n"
   ]
  },
  {
   "cell_type": "code",
   "execution_count": 42,
   "metadata": {},
   "outputs": [
    {
     "data": {
      "text/plain": [
       "<re.Match object; span=(2, 3), match='i'>"
      ]
     },
     "execution_count": 42,
     "metadata": {},
     "output_type": "execute_result"
    }
   ],
   "source": [
    "#Search\n",
    "re.search(\"i\",\"cbiti\")#It will match only one letter/chr  "
   ]
  },
  {
   "cell_type": "code",
   "execution_count": 43,
   "metadata": {},
   "outputs": [
    {
     "data": {
      "text/plain": [
       "['i', 'i']"
      ]
     },
     "execution_count": 43,
     "metadata": {},
     "output_type": "execute_result"
    }
   ],
   "source": [
    "#FindAll\n",
    "re.findall(\"i\",\"cbiti\")"
   ]
  },
  {
   "cell_type": "code",
   "execution_count": 44,
   "metadata": {},
   "outputs": [
    {
     "data": {
      "text/plain": [
       "['s', 's', 's', 's']"
      ]
     },
     "execution_count": 44,
     "metadata": {},
     "output_type": "execute_result"
    }
   ],
   "source": [
    "re.findall(\"s\",\"sapssdcs\")"
   ]
  },
  {
   "cell_type": "code",
   "execution_count": null,
   "metadata": {},
   "outputs": [],
   "source": [
    "#Single Digit number matching\n",
    "    #^[0-9]$\n",
    "# Match the three digit number \n",
    "    #^[0-9]{3}$\n",
    "# Match paticular char \n",
    "    #[5]|[4]|[%]|[$]|[#]\n",
    "#match the eight digit number starting with 8 and \n",
    "                                    #ending with 2\n",
    "\"\"\"    ->81234432(valid)\n",
    "    ->89876542(valid)\n",
    "    ->312345679(invalid)\"\"\"\n",
    "    #^[8][0-9]{6}[2]$\n",
    "#Mobile number validation starting with 6 or 7 or 8 or 9 \n",
    "    #^[6-9][0-9]{9}$\n",
    "    #^[0][6-9][0-9]{9}$ -->starting with zero\n",
    "    #^[+][9][1][6-9][0-9]{9}$  -->Starting with +91 \n",
    "# Email validation\n",
    "    #3 parts(example@mail.com)\n",
    "    #1.username len(8 to 15)\n",
    "    #2.domain len(gmail,apssdc,yahoo,outlook,ksrm,cbit..etc)[4-7]\n",
    "    #3.Extention (.com,.in,.org,.ac.in,edu,co.in..etc)[2-4]\n",
    "        #^[a-zA-Z0-9]{1}[a-zA-z0-9._-]{7,15}[@][a-z]{4,7}[.][a-z]{2,4}$"
   ]
  },
  {
   "cell_type": "code",
   "execution_count": 60,
   "metadata": {},
   "outputs": [
    {
     "name": "stdout",
     "output_type": "stream",
     "text": [
      "Enter no of Test Cases:5\n",
      "Enter Mobile number:123456789\n",
      "123456789  is Invalid Number please try again\n",
      "Enter Mobile number:987654321\n",
      "987654321  is Invalid Number please try again\n",
      "Enter Mobile number:9876543210\n",
      "9876543210   is Valid Number\n",
      "Enter Mobile number:+919876543210\n",
      "+919876543210   is Valid Number\n",
      "Enter Mobile number:8325698745\n",
      "8325698745   is Valid Number\n"
     ]
    }
   ],
   "source": [
    "#Funtion to validate the mobile number\n",
    "import re \n",
    "\n",
    "pattern=\"^[6-9][0-9]{9}$|^[0][6-9][0-9]{9}$|^[+][9][1][6-9][0-9]{9}$\"\n",
    "def isValidMobileNumber(mobile_number):\n",
    "    if re.match(pattern,mobile_number):\n",
    "        print(mobile_number,\"  is Valid Number\")\n",
    "    else:\n",
    "        print(mobile_number,\" is Invalid Number please try again\")\n",
    "# mobile_number=input('Enter the mobile number')\n",
    "# isValidMobileNumber(mobile_number)\n",
    "test_cases=int(input(\"Enter no of Test Cases:\"))\n",
    "for i in range(test_cases):\n",
    "    mobile_number=input(\"Enter Mobile number:\")\n",
    "    isValidMobileNumber(mobile_number)\n",
    "    "
   ]
  },
  {
   "cell_type": "code",
   "execution_count": 53,
   "metadata": {},
   "outputs": [
    {
     "data": {
      "text/plain": [
       "True"
      ]
     },
     "execution_count": 53,
     "metadata": {},
     "output_type": "execute_result"
    }
   ],
   "source": [
    "isPrimeNumber(7)"
   ]
  },
  {
   "cell_type": "code",
   "execution_count": 58,
   "metadata": {},
   "outputs": [
    {
     "name": "stdout",
     "output_type": "stream",
     "text": [
      "41 43 47 53 59 61 67 71 73 79 83 89 97 "
     ]
    }
   ],
   "source": [
    "def rangeprimenumbers(lb,ub):\n",
    "    for i in range(lb,ub+1):\n",
    "        if(isPrimeNumber(i)):\n",
    "            print(i,end=\" \")\n",
    "rangeprimenumbers(40,100)"
   ]
  },
  {
   "cell_type": "code",
   "execution_count": 59,
   "metadata": {},
   "outputs": [
    {
     "name": "stdout",
     "output_type": "stream",
     "text": [
      "5\n",
      "10\n",
      "20\n",
      "11 13 17 19 20\n",
      "40\n",
      "23 29 31 37 30\n",
      "50\n",
      "31 37 41 43 47 60\n",
      "70\n",
      "61 67 80\n",
      "90\n",
      "83 89 "
     ]
    }
   ],
   "source": [
    "test_cases=int(input())\n",
    "for i in range(test_cases):\n",
    "    lb=int(input())\n",
    "    ub=int(input())\n",
    "    rangeprimenumbers(lb,ub)"
   ]
  },
  {
   "cell_type": "code",
   "execution_count": 10,
   "metadata": {},
   "outputs": [
    {
     "name": "stdout",
     "output_type": "stream",
     "text": [
      "['h', 'a', 'n', 'u', 'm', 'a', 'n']\n"
     ]
    }
   ],
   "source": [
    "#List comprahension\n",
    "s=\"hanuman\"\n",
    "m=[]\n",
    "for i in s:\n",
    "    m.append(i)\n",
    "print(m)\n",
    "\n",
    "    "
   ]
  },
  {
   "cell_type": "code",
   "execution_count": 8,
   "metadata": {},
   "outputs": [
    {
     "name": "stdout",
     "output_type": "stream",
     "text": [
      "['h', 'a', 'n', 'u', 'm', 'a', 'n']\n"
     ]
    },
    {
     "data": {
      "text/plain": [
       "'hanuman'"
      ]
     },
     "execution_count": 8,
     "metadata": {},
     "output_type": "execute_result"
    }
   ],
   "source": [
    "m1=[i for i in s ] \n",
    "print(m1)\n",
    "l2=\"\".join(m1)\n",
    "l2\n"
   ]
  },
  {
   "cell_type": "code",
   "execution_count": 2,
   "metadata": {},
   "outputs": [],
   "source": [
    "fp='file.txt'"
   ]
  },
  {
   "cell_type": "code",
   "execution_count": 12,
   "metadata": {},
   "outputs": [
    {
     "name": "stdout",
     "output_type": "stream",
     "text": [
      "hi hello\n",
      "how are you \n",
      "\n"
     ]
    }
   ],
   "source": [
    "fp='file.txt'\n",
    "def getfileData(fp):\n",
    "    with open(fp,'r') as f:\n",
    "        fd=f.read()\n",
    "        print(fd)\n",
    "getfileData(fp)"
   ]
  },
  {
   "cell_type": "code",
   "execution_count": 15,
   "metadata": {},
   "outputs": [
    {
     "data": {
      "text/plain": [
       "2"
      ]
     },
     "execution_count": 15,
     "metadata": {},
     "output_type": "execute_result"
    }
   ],
   "source": [
    "def countLines(fp):\n",
    "    c=0\n",
    "    with open(fp,\"r\") as f:\n",
    "        for i in f:\n",
    "            c=c+1\n",
    "        return c\n",
    "countLines(fp)\n",
    "            "
   ]
  },
  {
   "cell_type": "code",
   "execution_count": 4,
   "metadata": {},
   "outputs": [
    {
     "name": "stdout",
     "output_type": "stream",
     "text": [
      "hi hello\n",
      "how are you \n",
      "\n",
      "1 --> h 2 --> i 3 -->   4 --> h 5 --> e 6 --> l 7 --> l 8 --> o 9 --> \n",
      " 10 --> h 11 --> o 12 --> w 13 -->   14 --> a 15 --> r 16 --> e 17 -->   18 --> y 19 --> o 20 --> u 21 -->   22 --> \n",
      " "
     ]
    }
   ],
   "source": [
    "with open(fp,\"r\") as f:\n",
    "    fd=f.readlines()#it will return the list of words\n",
    "    s=\"\".join(fd)\n",
    "    print(s)\n",
    "    s1,c=0,0\n",
    "    for i in s:\n",
    "        c=c+1\n",
    "        print(c,\"-->\",i,end=\" \")"
   ]
  },
  {
   "cell_type": "code",
   "execution_count": 30,
   "metadata": {},
   "outputs": [
    {
     "name": "stdout",
     "output_type": "stream",
     "text": [
      "['hi', 'hello', 'how', 'are', 'you']\n",
      "5\n"
     ]
    }
   ],
   "source": [
    "with open(fp,\"r\") as f:\n",
    "    fd=f.read()\n",
    "    words=fd.split()\n",
    "    print(words)\n",
    "    print(len(words))"
   ]
  },
  {
   "cell_type": "code",
   "execution_count": 31,
   "metadata": {},
   "outputs": [
    {
     "name": "stdout",
     "output_type": "stream",
     "text": [
      "4000\n"
     ]
    }
   ],
   "source": [
    "import numpy as np\n",
    "\n",
    "d=np.arange(1000)\n",
    "print(d.size*d.itemsize)"
   ]
  },
  {
   "cell_type": "code",
   "execution_count": 42,
   "metadata": {},
   "outputs": [
    {
     "name": "stdout",
     "output_type": "stream",
     "text": [
      "4000\n"
     ]
    }
   ],
   "source": [
    "s2=np.arange(1000)\n",
    "print(s2.size*s2.itemsize)\n",
    "# print(list(s2))"
   ]
  },
  {
   "cell_type": "code",
   "execution_count": 41,
   "metadata": {},
   "outputs": [
    {
     "name": "stdout",
     "output_type": "stream",
     "text": [
      "48000\n"
     ]
    }
   ],
   "source": [
    "import sys\n",
    "\n",
    "e=range(0,1000)\n",
    "print(sys.getsizeof(e)*len(e))\n",
    "# print(list(e))\n"
   ]
  },
  {
   "cell_type": "code",
   "execution_count": 43,
   "metadata": {},
   "outputs": [
    {
     "data": {
      "text/plain": [
       "array([1, 2, 5, 3])"
      ]
     },
     "execution_count": 43,
     "metadata": {},
     "output_type": "execute_result"
    }
   ],
   "source": [
    "oneD=np.array([1,2,5,3])\n",
    "oneD"
   ]
  },
  {
   "cell_type": "code",
   "execution_count": 77,
   "metadata": {},
   "outputs": [
    {
     "name": "stdout",
     "output_type": "stream",
     "text": [
      "Additon of one D is  [ 5  9 21 13]\n",
      "squreing of one D is  [ 16  64 400 144]\n",
      "mul of one D is  [ 40  80 200 120]\n",
      "original of one D is  [ 4  8 20 12]\n",
      "\n",
      "original of two D is \n",
      " [[1 2 3]\n",
      " [3 4 5]\n",
      " [9 6 0]]\n",
      "Transpose of two  D is\n",
      "  [[1 3 9]\n",
      " [2 4 6]\n",
      " [3 5 0]]\n"
     ]
    }
   ],
   "source": [
    "#Addition for one D\n",
    "print(\"Additon of one D is \",oneD+1)\n",
    "print(\"squreing of one D is \",oneD**2)\n",
    "print(\"mul of one D is \",oneD*10)\n",
    "# oneD *=2\n",
    "# print(\"modifying of one D is \",oneD)\n",
    "print(\"original of one D is \",oneD)\n",
    "a=np.array([[1,2,3],[3,4,5],[9,6,0]])\n",
    "print(\"\\noriginal of two D is \\n\",a)\n",
    "print(\"Transpose of two  D is\\n \",a.T)"
   ]
  },
  {
   "cell_type": "code",
   "execution_count": 49,
   "metadata": {},
   "outputs": [
    {
     "data": {
      "text/plain": [
       "array([[2, 7, 3, 5],\n",
       "       [7, 8, 0, 8],\n",
       "       [2, 4, 1, 1]])"
      ]
     },
     "execution_count": 49,
     "metadata": {},
     "output_type": "execute_result"
    }
   ],
   "source": [
    "twoD=np.random.randint(10,size=(3,4))\n",
    "twoD"
   ]
  },
  {
   "cell_type": "code",
   "execution_count": 64,
   "metadata": {},
   "outputs": [
    {
     "data": {
      "text/plain": [
       "array([[6, 2, 8, 3],\n",
       "       [2, 0, 1, 8],\n",
       "       [8, 2, 6, 1],\n",
       "       [5, 0, 8, 2]])"
      ]
     },
     "execution_count": 64,
     "metadata": {},
     "output_type": "execute_result"
    }
   ],
   "source": [
    "mulD=np.random.randint(10,size=(3,4,4))\n",
    "mulD[2]"
   ]
  },
  {
   "cell_type": "code",
   "execution_count": 58,
   "metadata": {},
   "outputs": [
    {
     "data": {
      "text/plain": [
       "array([[0., 0., 0., 0.],\n",
       "       [0., 0., 0., 0.]])"
      ]
     },
     "execution_count": 58,
     "metadata": {},
     "output_type": "execute_result"
    }
   ],
   "source": [
    "fv=np.zeros((2,4))\n",
    "fv"
   ]
  },
  {
   "cell_type": "code",
   "execution_count": 71,
   "metadata": {},
   "outputs": [
    {
     "data": {
      "text/plain": [
       "array([1, 2, 3, 4, 5, 6, 7, 8, 9])"
      ]
     },
     "execution_count": 71,
     "metadata": {},
     "output_type": "execute_result"
    }
   ],
   "source": [
    "nn=np.arange(1,10,1)\n",
    "nn"
   ]
  },
  {
   "cell_type": "code",
   "execution_count": null,
   "metadata": {},
   "outputs": [],
   "source": []
  }
 ],
 "metadata": {
  "kernelspec": {
   "display_name": "Python 3",
   "language": "python",
   "name": "python3"
  },
  "language_info": {
   "codemirror_mode": {
    "name": "ipython",
    "version": 3
   },
   "file_extension": ".py",
   "mimetype": "text/x-python",
   "name": "python",
   "nbconvert_exporter": "python",
   "pygments_lexer": "ipython3",
   "version": "3.7.3"
  }
 },
 "nbformat": 4,
 "nbformat_minor": 2
}
